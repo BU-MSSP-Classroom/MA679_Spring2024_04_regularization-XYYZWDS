{
 "cells": [
  {
   "cell_type": "markdown",
   "id": "6d938eb2",
   "metadata": {},
   "source": [
    "# Class Workbook"
   ]
  },
  {
   "cell_type": "markdown",
   "id": "9908fc96",
   "metadata": {},
   "source": [
    "## In class activity"
   ]
  },
  {
   "cell_type": "code",
   "execution_count": 45,
   "id": "7cca5dff",
   "metadata": {
    "kernel": "Python3",
    "tags": [
     "report_cell"
    ]
   },
   "outputs": [],
   "source": [
    "import numpy as np\n",
    "import pandas as pd\n",
    "import math\n",
    "from matplotlib.pyplot import subplots\n",
    "#import statsmodels.api as sm\n",
    "from plotnine import *\n",
    "import plotly.express as px\n",
    "import statsmodels.formula.api as sm\n",
    "#import ISLP as islp"
   ]
  },
  {
   "cell_type": "markdown",
   "id": "aacd4cd7",
   "metadata": {},
   "source": [
    "### Ames Housing data\n",
    "\n",
    "Please take a look at the Ames Hoursing data."
   ]
  },
  {
   "cell_type": "code",
   "execution_count": 46,
   "id": "6eab101a",
   "metadata": {
    "kernel": "Python3",
    "tags": [
     "report_cell"
    ]
   },
   "outputs": [],
   "source": [
    "ames_raw=pd.read_csv(\"ames_raw.csv\")"
   ]
  },
  {
   "cell_type": "markdown",
   "id": "ada3706e",
   "metadata": {},
   "source": [
    "### Questions\n",
    "\n",
    "Use data of `ames_raw` up to 2008 predict the housing price for the later years."
   ]
  },
  {
   "cell_type": "code",
   "execution_count": 47,
   "id": "0c071767",
   "metadata": {
    "Rmd_chunk_options": "echo=show_code",
    "kernel": "Python3",
    "tags": [
     "report_cell"
    ]
   },
   "outputs": [],
   "source": [
    "ames_raw_2009, ames_raw_2008= ames_raw.query('`Yr Sold`>=2008').copy(), ames_raw.query('`Yr Sold` <2008').copy()"
   ]
  },
  {
   "cell_type": "markdown",
   "id": "ff838b0e",
   "metadata": {},
   "source": [
    "Use the same loss function calculator."
   ]
  },
  {
   "cell_type": "code",
   "execution_count": 48,
   "id": "ebb37a76",
   "metadata": {
    "Rmd_chunk_options": "echo=show_code",
    "kernel": "Python3",
    "tags": [
     "report_cell"
    ]
   },
   "outputs": [],
   "source": [
    "def calc_loss(prediction,actual):\n",
    "  difpred = actual-prediction\n",
    "  RMSE =pow(difpred.pow(2).mean(),1/2)\n",
    "  operation_loss=abs(sum(difpred[difpred<0]))+sum(0.1*actual[difpred>0])\n",
    "  return RMSE,operation_loss"
   ]
  },
  {
   "cell_type": "markdown",
   "id": "e9942d09",
   "metadata": {},
   "source": [
    "Here are few rules:\n",
    "\n",
    "- You are not allowed to use the test data.\n",
    "- Try 3 of the regularization methods discussed in Ch6.\n",
    "- You should use a resampling method that is most appropriate for choosing the hyper parameters.\n",
    "\n",
    "Your code:"
   ]
  },
  {
   "cell_type": "code",
   "execution_count": 49,
   "id": "5e72cd2d",
   "metadata": {
    "Rmd_chunk_options": "echo=TRUE",
    "kernel": "Python3",
    "tags": [
     "report_cell"
    ]
   },
   "outputs": [
    {
     "name": "stderr",
     "output_type": "stream",
     "text": [
      "d:\\adcona\\Lib\\site-packages\\sklearn\\linear_model\\_coordinate_descent.py:589: ConvergenceWarning: Objective did not converge. You might want to increase the number of iterations. Duality gap: 2426105518.189453, tolerance: 898480585.653041\n"
     ]
    },
    {
     "data": {
      "text/plain": [
       "(38063.49714156233, 38158.23949026076, 38061.595926784285)"
      ]
     },
     "execution_count": 49,
     "metadata": {},
     "output_type": "execute_result"
    }
   ],
   "source": [
    "from sklearn.model_selection import train_test_split, GridSearchCV\n",
    "from sklearn.linear_model import Ridge, Lasso, ElasticNet\n",
    "from sklearn.preprocessing import StandardScaler, OneHotEncoder\n",
    "from sklearn.compose import ColumnTransformer\n",
    "from sklearn.pipeline import Pipeline\n",
    "from sklearn.metrics import mean_squared_error\n",
    "from sklearn.impute import SimpleImputer\n",
    "import numpy as np\n",
    "\n",
    "\n",
    "training_data = ames_raw_2008\n",
    "\n",
    "\n",
    "features = ['Overall Qual', 'Gr Liv Area', 'Garage Cars', 'Total Bsmt SF', 'Full Bath', 'Year Built']\n",
    "target = 'SalePrice'\n",
    "\n",
    "\n",
    "numeric_features = ['Gr Liv Area', 'Total Bsmt SF', 'Year Built']\n",
    "numeric_transformer = Pipeline(steps=[\n",
    "    ('imputer', SimpleImputer(strategy='median')),\n",
    "    ('scaler', StandardScaler())])\n",
    "\n",
    "\n",
    "categorical_features = ['Overall Qual', 'Garage Cars', 'Full Bath']\n",
    "categorical_transformer = Pipeline(steps=[\n",
    "    ('imputer', SimpleImputer(strategy='most_frequent')),\n",
    "    ('onehot', OneHotEncoder(handle_unknown='ignore'))])\n",
    "\n",
    "# Combining preprocessing steps\n",
    "preprocessor = ColumnTransformer(\n",
    "    transformers=[\n",
    "        ('num', numeric_transformer, numeric_features),\n",
    "        ('cat', categorical_transformer, categorical_features)])\n",
    "\n",
    "\n",
    "def model_fit_score(model, params, X, y):\n",
    "    pipeline = Pipeline(steps=[('preprocessor', preprocessor),\n",
    "                               ('model', model)])\n",
    "    search = GridSearchCV(pipeline, param_grid=params, cv=5, scoring='neg_mean_squared_error', n_jobs=-1)\n",
    "    search.fit(X, y)\n",
    "    best_model = search.best_estimator_\n",
    "    best_score = -search.best_score_\n",
    "    return best_model, np.sqrt(best_score)  # Return RMSE\n",
    "\n",
    "\n",
    "ridge_params = {'model__alpha': np.logspace(-4, 4, 50)}\n",
    "lasso_params = {'model__alpha': np.logspace(-4, 4, 50)}\n",
    "elastic_net_params = {'model__alpha': np.logspace(-4, 4, 50),\n",
    "                      'model__l1_ratio': [.1, .5, .7, .9, .95, .99, 1]}\n",
    "\n",
    "# Splitting features and target\n",
    "X = training_data[features]\n",
    "y = training_data[target]\n",
    "\n",
    "\n",
    "ridge_model, ridge_rmse = model_fit_score(Ridge(), ridge_params, X, y)\n",
    "lasso_model, lasso_rmse = model_fit_score(Lasso(), lasso_params, X, y)\n",
    "elastic_net_model, elastic_net_rmse = model_fit_score(ElasticNet(), elastic_net_params, X, y)\n",
    "\n",
    "ridge_rmse, lasso_rmse, elastic_net_rmse\n"
   ]
  },
  {
   "cell_type": "markdown",
   "id": "8daa08c2",
   "metadata": {},
   "source": [
    "Your answer:\n",
    "\n",
    "~~~\n",
    "Please write your answer in full sentences.\n",
    "\n",
    "\n",
    "~~~\n",
    "\n",
    "- For each of the models you've run, can you interpret which variable impacts the outcome the most?\n",
    "Are the results consistent across different methods?\n",
    "\n",
    "Your code:"
   ]
  },
  {
   "cell_type": "code",
   "execution_count": 50,
   "id": "c366654a",
   "metadata": {
    "Rmd_chunk_options": "echo=TRUE",
    "kernel": "Python3",
    "tags": [
     "report_cell"
    ]
   },
   "outputs": [
    {
     "name": "stdout",
     "output_type": "stream",
     "text": [
      "Feature coefficients:\n",
      "Overall Qual_10.0: 123808.5676\n",
      "Overall Qual_9.0: 99434.8019\n",
      "Overall Qual_2.0: -51062.6555\n",
      "Overall Qual_3.0: -48820.6666\n",
      "Overall Qual_4.0: -47992.8334\n",
      "Overall Qual_1.0: -39612.8996\n",
      "Overall Qual_5.0: -34374.0554\n",
      "Overall Qual_8.0: 29081.7177\n",
      "Gr Liv Area: 28355.5889\n",
      "Overall Qual_6.0: -23136.8263\n",
      "Garage Cars_3.0: 22627.8432\n",
      "Garage Cars_0.0: -21591.8753\n",
      "Full Bath_3.0: 14345.5970\n",
      "Year Built: 12500.7153\n",
      "Full Bath_2.0: -10998.8000\n",
      "Garage Cars_4.0: 10245.5012\n",
      "Garage Cars_1.0: -8549.4596\n",
      "Total Bsmt SF: 8337.0933\n",
      "Overall Qual_7.0: -7325.1503\n",
      "Full Bath_1.0: -4575.6041\n",
      "Garage Cars_2.0: -2732.0095\n",
      "Full Bath_0.0: 1228.8072\n"
     ]
    }
   ],
   "source": [
    "\n",
    "\n",
    "\n",
    "def get_feature_names_out(column_transformer):\n",
    "    \"\"\"Generate feature names from the column transformer.\"\"\"\n",
    "    feature_names = []\n",
    "    \n",
    "\n",
    "    for transformer_name, transformer, original_features in column_transformer.transformers_:\n",
    "        if transformer_name == 'remainder':\n",
    "            continue  \n",
    "        if hasattr(transformer, 'get_feature_names_out'):\n",
    "          \n",
    "            names = transformer.get_feature_names_out(original_features)\n",
    "        else:\n",
    "            \n",
    "            names = original_features\n",
    "        feature_names.extend(names)\n",
    "    \n",
    "    return feature_names\n",
    "\n",
    "\n",
    "fitted_preprocessor = ridge_model.named_steps['preprocessor']\n",
    "\n",
    "feature_names = get_feature_names_out(fitted_preprocessor)\n",
    "\n",
    "\n",
    "def print_model_coefficients(model, feature_names):\n",
    "    \"\"\"Print the coefficients of the model.\"\"\"\n",
    "    \n",
    "    coefficients = model.named_steps['model'].coef_\n",
    "    feature_coefficients = zip(feature_names, coefficients)\n",
    "    sorted_features = sorted(feature_coefficients, key=lambda x: np.abs(x[1]), reverse=True)\n",
    "    \n",
    "    print(\"Feature coefficients:\")\n",
    "    for feature, coef in sorted_features:\n",
    "        print(f\"{feature}: {coef:.4f}\")\n",
    "\n",
    "\n",
    "print_model_coefficients(ridge_model, feature_names)\n"
   ]
  },
  {
   "cell_type": "markdown",
   "id": "19a6e3c0",
   "metadata": {},
   "source": [
    "Your answer:\n",
    "\n",
    "~~~\n",
    "\n",
    "The model coefficients indicate the significant impact of features on house prices. High-quality ratings (e.g., Overall Qual_10 and 9) substantially increase prices, while lower ratings decrease them. Living area (Gr Liv Area) and garage capacity (Garage Cars) also play crucial roles, positively affecting house prices. The number of full baths and the year the house was built are further influential, with newer and more well-equipped homes fetching higher prices. These results highlight the importance of quality, size, and amenities in determining housing values.\n",
    "\n",
    "\n",
    "~~~\n",
    "\n",
    "- Try these methods with bootstrap, are the results consistent?\n",
    "\n",
    "Your code:"
   ]
  },
  {
   "cell_type": "code",
   "execution_count": 51,
   "id": "7c1bb44f",
   "metadata": {
    "Rmd_chunk_options": "echo=TRUE",
    "kernel": "Python3",
    "tags": [
     "report_cell"
    ]
   },
   "outputs": [
    {
     "name": "stdout",
     "output_type": "stream",
     "text": [
      "Ridge Mean RMSE: 38516.34946095351\n",
      "Lasso Mean RMSE: 39076.26432978235\n",
      "Elastic Net Mean RMSE: 39110.62474657365\n"
     ]
    }
   ],
   "source": [
    "\n",
    "import numpy as np\n",
    "from sklearn.utils import resample\n",
    "from sklearn.metrics import mean_squared_error\n",
    "from sklearn.pipeline import Pipeline\n",
    "from sklearn.impute import SimpleImputer\n",
    "# Define a bootstrap sampling function to evaluate model consistency\n",
    "def bootstrap_evaluate(model_pipeline, X, y, n_iterations=100):\n",
    "    # Store RMSE for each bootstrap iteration\n",
    "    rmse_scores = []\n",
    "\n",
    "    for i in range(n_iterations):\n",
    "        # Generate a bootstrap sample\n",
    "        X_sample, y_sample = resample(X, y)\n",
    "        \n",
    "        # Split the bootstrap sample into training and testing sets\n",
    "        X_train, X_test, y_train, y_test = train_test_split(X_sample, y_sample, test_size=0.2, random_state=i)\n",
    "        \n",
    "        # Fit the model on the bootstrap sample\n",
    "        model_pipeline.fit(X_train, y_train)\n",
    "        \n",
    "        # Predict on the test set\n",
    "        y_pred = model_pipeline.predict(X_test)\n",
    "        \n",
    "        # Calculate RMSE and store it\n",
    "        rmse = np.sqrt(mean_squared_error(y_test, y_pred))\n",
    "        rmse_scores.append(rmse)\n",
    "    \n",
    "    # Return the list of RMSE scores for analysis\n",
    "    return rmse_scores\n",
    "\n",
    "\n",
    "\n",
    "# Modify pipelines to include imputation\n",
    "ridge_pipeline = Pipeline([\n",
    "    ('imputer', SimpleImputer(strategy='median')),  # Add imputation step\n",
    "    ('scaler', StandardScaler()), \n",
    "    ('model', Ridge(alpha=1.0))\n",
    "])\n",
    "lasso_pipeline = Pipeline([\n",
    "    ('imputer', SimpleImputer(strategy='median')),  # Add imputation step\n",
    "    ('scaler', StandardScaler()), \n",
    "    ('model', Lasso(alpha=0.1))\n",
    "])\n",
    "elastic_net_pipeline = Pipeline([\n",
    "    ('imputer', SimpleImputer(strategy='median')),  # Add imputation step\n",
    "    ('scaler', StandardScaler()), \n",
    "    ('model', ElasticNet(alpha=0.1, l1_ratio=0.5))\n",
    "])\n",
    "\n",
    "# Applying bootstrap evaluation\n",
    "ridge_rmse_scores = bootstrap_evaluate(ridge_pipeline, X, y, n_iterations=100)\n",
    "lasso_rmse_scores = bootstrap_evaluate(lasso_pipeline, X, y, n_iterations=100)\n",
    "elastic_net_rmse_scores = bootstrap_evaluate(elastic_net_pipeline, X, y, n_iterations=100)\n",
    "\n",
    "# Analysis (example: print the mean RMSE for each model)\n",
    "print(f\"Ridge Mean RMSE: {np.mean(ridge_rmse_scores)}\")\n",
    "print(f\"Lasso Mean RMSE: {np.mean(lasso_rmse_scores)}\")\n",
    "print(f\"Elastic Net Mean RMSE: {np.mean(elastic_net_rmse_scores)}\")\n"
   ]
  },
  {
   "cell_type": "markdown",
   "id": "b17b0e98",
   "metadata": {},
   "source": [
    "Your answer:\n",
    "\n",
    "~~~\n",
    "\n",
    "The results show Lasso and Elastic Net slightly outperform Ridge Regression, with Elastic Net yielding the lowest mean RMSE. This suggests a consistent performance trend favoring Lasso and Elastic Net for this dataset's regularization.\n",
    "\n",
    "\n",
    "~~~\n",
    "\n",
    "- Based on all the models you've run, which result predicts the best?  Which one is most easy to understand?  Which method gives the most stable results?\n",
    "\n",
    "Your code:"
   ]
  },
  {
   "cell_type": "markdown",
   "id": "1d683c9a",
   "metadata": {},
   "source": [
    "Your answer:\n",
    "\n",
    "~~~\n",
    "The Elastic Net model provides the best predictions with the lowest mean RMSE, suggesting higher accuracy. Ridge Regression is easiest to understand due to its straightforward regularization. Elastic Net likely offers the most stable results, balancing feature selection and prediction accuracy.\n",
    "\n",
    "\n",
    "~~~"
   ]
  },
  {
   "cell_type": "markdown",
   "id": "31f56de0",
   "metadata": {},
   "source": [
    "## Problem Set"
   ]
  },
  {
   "cell_type": "markdown",
   "id": "bd5672d3",
   "metadata": {},
   "source": [
    "### Best Subset\n",
    "\n",
    "In this exercise, we will generate simulated data, and will then use this data to perform best subset selection.\n",
    "\n",
    "(a) Use the `normal()` function to generate a predictor $X$ of length $n = 100$, as well as a noise vector $\\epsilon$ of length $n = 100$.\n",
    "\n",
    "Your code:"
   ]
  },
  {
   "cell_type": "code",
   "execution_count": 52,
   "id": "6d24b2fd",
   "metadata": {
    "Rmd_chunk_options": "echo=TRUE",
    "kernel": "Python3",
    "tags": [
     "report_cell"
    ]
   },
   "outputs": [
    {
     "data": {
      "text/plain": [
       "(array([ 1.76405235,  0.40015721,  0.97873798,  2.2408932 ,  1.86755799,\n",
       "        -0.97727788,  0.95008842, -0.15135721, -0.10321885,  0.4105985 ,\n",
       "         0.14404357,  1.45427351,  0.76103773,  0.12167502,  0.44386323,\n",
       "         0.33367433,  1.49407907, -0.20515826,  0.3130677 , -0.85409574,\n",
       "        -2.55298982,  0.6536186 ,  0.8644362 , -0.74216502,  2.26975462,\n",
       "        -1.45436567,  0.04575852, -0.18718385,  1.53277921,  1.46935877,\n",
       "         0.15494743,  0.37816252, -0.88778575, -1.98079647, -0.34791215,\n",
       "         0.15634897,  1.23029068,  1.20237985, -0.38732682, -0.30230275,\n",
       "        -1.04855297, -1.42001794, -1.70627019,  1.9507754 , -0.50965218,\n",
       "        -0.4380743 , -1.25279536,  0.77749036, -1.61389785, -0.21274028,\n",
       "        -0.89546656,  0.3869025 , -0.51080514, -1.18063218, -0.02818223,\n",
       "         0.42833187,  0.06651722,  0.3024719 , -0.63432209, -0.36274117,\n",
       "        -0.67246045, -0.35955316, -0.81314628, -1.7262826 ,  0.17742614,\n",
       "        -0.40178094, -1.63019835,  0.46278226, -0.90729836,  0.0519454 ,\n",
       "         0.72909056,  0.12898291,  1.13940068, -1.23482582,  0.40234164,\n",
       "        -0.68481009, -0.87079715, -0.57884966, -0.31155253,  0.05616534,\n",
       "        -1.16514984,  0.90082649,  0.46566244, -1.53624369,  1.48825219,\n",
       "         1.89588918,  1.17877957, -0.17992484, -1.07075262,  1.05445173,\n",
       "        -0.40317695,  1.22244507,  0.20827498,  0.97663904,  0.3563664 ,\n",
       "         0.70657317,  0.01050002,  1.78587049,  0.12691209,  0.40198936]),\n",
       " array([ 1.8831507 , -1.34775906, -1.270485  ,  0.96939671, -1.17312341,\n",
       "         1.94362119, -0.41361898, -0.74745481,  1.92294203,  1.48051479,\n",
       "         1.86755896,  0.90604466, -0.86122569,  1.91006495, -0.26800337,\n",
       "         0.8024564 ,  0.94725197, -0.15501009,  0.61407937,  0.92220667,\n",
       "         0.37642553, -1.09940079,  0.29823817,  1.3263859 , -0.69456786,\n",
       "        -0.14963454, -0.43515355,  1.84926373,  0.67229476,  0.40746184,\n",
       "        -0.76991607,  0.53924919, -0.67433266,  0.03183056, -0.63584608,\n",
       "         0.67643329,  0.57659082, -0.20829876,  0.39600671, -1.09306151,\n",
       "        -1.49125759,  0.4393917 ,  0.1666735 ,  0.63503144,  2.38314477,\n",
       "         0.94447949, -0.91282223,  1.11701629, -1.31590741, -0.4615846 ,\n",
       "        -0.06824161,  1.71334272, -0.74475482, -0.82643854, -0.09845252,\n",
       "        -0.66347829,  1.12663592, -1.07993151, -1.14746865, -0.43782004,\n",
       "        -0.49803245,  1.92953205,  0.94942081,  0.08755124, -1.22543552,\n",
       "         0.84436298, -1.00021535, -1.5447711 ,  1.18802979,  0.31694261,\n",
       "         0.92085882,  0.31872765,  0.85683061, -0.65102559, -1.03424284,\n",
       "         0.68159452, -0.80340966, -0.68954978, -0.4555325 ,  0.01747916,\n",
       "        -0.35399391, -1.37495129, -0.6436184 , -2.22340315,  0.62523145,\n",
       "        -1.60205766, -1.10438334,  0.05216508, -0.739563  ,  1.5430146 ,\n",
       "        -1.29285691,  0.26705087, -0.03928282, -1.1680935 ,  0.52327666,\n",
       "        -0.17154633,  0.77179055,  0.82350415,  2.16323595,  1.33652795]))"
      ]
     },
     "execution_count": 52,
     "metadata": {},
     "output_type": "execute_result"
    }
   ],
   "source": [
    "import numpy as np\n",
    "\n",
    "\n",
    "np.random.seed(0)\n",
    "\n",
    "# Generating data\n",
    "n = 100\n",
    "X = np.random.normal(0, 1, n) # Predictor X with mean = 0, std = 1\n",
    "epsilon = np.random.normal(0, 1, n) # Noise vector epsilon with mean = 0, std = 1\n",
    "\n",
    "X, epsilon\n"
   ]
  },
  {
   "cell_type": "markdown",
   "id": "15fb8565",
   "metadata": {},
   "source": [
    "(b) Generate a response vector $Y$ of length $n = 100$ according to the model $$\\mathbf{y} = \\boldsymbol{\\beta}_0 + \\beta_1X + \\beta2X^2 + \\beta_3X^3 + \\epsilon$$, where $\\beta_{0}$ , $\\beta_{1}$, $\\beta_{2}$, and $\\beta_{3}$ are constants of your choice.\n",
    "\n",
    "Your code:"
   ]
  },
  {
   "cell_type": "code",
   "execution_count": 53,
   "id": "965de638",
   "metadata": {
    "Rmd_chunk_options": "echo=TRUE",
    "kernel": "Python3",
    "tags": [
     "report_cell"
    ]
   },
   "outputs": [
    {
     "data": {
      "text/plain": [
       "array([ 8.80818726e+00,  1.72462452e+00,  3.17658119e+00,  1.02969112e+01,\n",
       "        6.19858674e+00, -4.09969905e-01,  3.96278548e+00,  7.73830838e-01,\n",
       "        3.60208149e+00,  4.57833080e+00,  4.28043547e+00,  6.69178358e+00,\n",
       "        3.06309738e+00,  4.26118588e+00,  2.91029552e+00,  3.71071623e+00,\n",
       "        6.86481256e+00,  1.18310766e+00,  3.47061319e+00, -6.81082758e-01,\n",
       "       -2.01201845e+01,  2.57385630e+00,  4.46727178e+00,  3.44686362e-01,\n",
       "        8.80955507e+00, -6.16603332e+00,  1.70007606e+00,  3.24939513e+00,\n",
       "        6.72178531e+00,  6.24270691e+00,  1.67277754e+00,  3.55776978e+00,\n",
       "       -2.47571361e+00, -1.17199951e+01,  1.78318469e-01,  3.12294618e+00,\n",
       "        5.68494101e+00,  4.82227416e+00,  1.05495041e+00, -1.05169977e-01,\n",
       "       -4.31280257e+00, -5.26881131e+00, -8.34727669e+00,  8.39369490e+00,\n",
       "        2.52825299e+00,  1.39631227e+00, -5.22383331e+00,  5.07998916e+00,\n",
       "       -8.86409985e+00,  8.50121983e-01, -1.91552122e+00,  4.75331508e+00,\n",
       "       -6.04732244e-01, -4.58506453e+00,  1.81619536e+00,  2.47734177e+00,\n",
       "        3.32191020e+00,  1.74983140e+00, -1.58041380e+00,  3.18510353e-01,\n",
       "       -1.11966118e+00,  2.69835285e+00, -4.20053872e-01, -8.64355382e+00,\n",
       "        1.27815556e+00,  1.44516292e+00, -8.71452112e+00,  1.67896469e+00,\n",
       "       -7.30495239e-01,  2.47015056e+00,  4.77033991e+00,  2.69011271e+00,\n",
       "        5.71640305e+00, -4.82172586e+00,  2.04346858e+00, -2.37654963e-03,\n",
       "       -2.50424616e+00, -8.58142398e-01,  4.97624500e-01,  2.18290923e+00,\n",
       "       -3.99790624e+00,  2.88154491e+00,  2.58701488e+00, -9.00498073e+00,\n",
       "        6.52325431e+00,  5.89850212e+00,  3.86140374e+00,  1.47710528e+00,\n",
       "       -3.71214696e+00,  6.18070713e+00, -6.97707940e-01,  5.35340794e+00,\n",
       "        2.54668097e+00,  3.27377059e+00,  3.48800758e+00,  3.62530432e+00,\n",
       "        2.80318094e+00,  7.83965044e+00,  4.52888761e+00,  4.41338042e+00])"
      ]
     },
     "execution_count": 53,
     "metadata": {},
     "output_type": "execute_result"
    }
   ],
   "source": [
    "\n",
    "beta_0 = 2\n",
    "beta_1 = 3\n",
    "beta_2 = -1\n",
    "beta_3 = 0.5\n",
    "\n",
    "Y = beta_0 + beta_1*X + beta_2*(X**2) + beta_3*(X**3) + epsilon\n",
    "\n",
    "Y\n"
   ]
  },
  {
   "cell_type": "markdown",
   "id": "20844507",
   "metadata": {
    "jupyter": {
     "source_hidden": true
    },
    "kernel": "Markdown",
    "tags": [
     "report_output"
    ]
   },
   "source": [
    "(c) Use the `regsubsets()` function to perform best subset selection in order to choose the best model containing the predictors $X$, $X^{2},\\dots,X^{10}$. What is the best model obtained according to $C_p$ , BIC, and adjusted $R^2$ ? Show some plots to provide evidence for your answer, and report the coefficients of the best model obtained. Note you will need to use the `data.frame()` function to create a single data set containing both $X$ and $Y$.\n",
    "\n",
    "Your code:"
   ]
  },
  {
   "cell_type": "code",
   "execution_count": 54,
   "id": "b14ff637",
   "metadata": {
    "Rmd_chunk_options": "echo=TRUE",
    "jupyter": {
     "source_hidden": true
    },
    "kernel": "Python3",
    "tags": [
     "report_cell"
    ]
   },
   "outputs": [
    {
     "data": {
      "text/plain": [
       "({'model': ('X^1', 'X^2', 'X^5', 'X^7', 'X^8', 'X^9'),\n",
       "  'adj_r2': 0.9542237053692789,\n",
       "  'bic': 308.838778933699,\n",
       "  'cp': -2.3982784088998628,\n",
       "  'coefficients': const    2.226089\n",
       "  X^1      2.846628\n",
       "  X^2     -1.235499\n",
       "  X^5      0.914644\n",
       "  X^7     -0.324927\n",
       "  X^8      0.004000\n",
       "  X^9      0.031420\n",
       "  dtype: float64},\n",
       " {'model': ('X^1', 'X^2', 'X^3'),\n",
       "  'adj_r2': 0.952261687281773,\n",
       "  'bic': 302.39492865674055,\n",
       "  'cp': -2.38372518577208,\n",
       "  'coefficients': const    2.143159\n",
       "  X^1      3.162551\n",
       "  X^2     -1.066798\n",
       "  X^3      0.485227\n",
       "  dtype: float64},\n",
       " {'model': ('X^1', 'X^2', 'X^3', 'X^5'),\n",
       "  'adj_r2': 0.9534204244814058,\n",
       "  'bic': 303.4957562880023,\n",
       "  'cp': -2.3998519720383085,\n",
       "  'coefficients': const    2.177226\n",
       "  X^1      2.730710\n",
       "  X^2     -1.115664\n",
       "  X^3      0.877513\n",
       "  X^5     -0.061077\n",
       "  dtype: float64})"
      ]
     },
     "execution_count": 54,
     "metadata": {},
     "output_type": "execute_result"
    }
   ],
   "source": [
    "from itertools import combinations\n",
    "from sklearn.model_selection import train_test_split\n",
    "import statsmodels.api as sm\n",
    "from sklearn.preprocessing import PolynomialFeatures\n",
    "from sklearn.linear_model import LinearRegression\n",
    "from sklearn.metrics import mean_squared_error\n",
    "from scipy.stats import zscore\n",
    "import pandas as pd\n",
    "\n",
    "# Generating polynomial features up to X^10\n",
    "poly = PolynomialFeatures(degree=10, include_bias=False)\n",
    "X_poly = poly.fit_transform(X.reshape(-1, 1))\n",
    "\n",
    "# Converting to DataFrame for easier manipulation\n",
    "df_poly = pd.DataFrame(X_poly, columns=[f'X^{i+1}' for i in range(10)])\n",
    "df_poly['Y'] = Y  # Adding the response variable\n",
    "\n",
    "df_poly.head()\n",
    "\n",
    "# Function to calculate adjusted R^2\n",
    "def adjusted_r2(r_squared, n, k):\n",
    "    return 1 - ((1-r_squared)*(n-1)/(n-k-1))\n",
    "\n",
    "# Function to calculate BIC\n",
    "def bic(model, n, k):\n",
    "    return np.log(n)*k - 2*model.llf\n",
    "\n",
    "# Function to calculate Cp\n",
    "def cp(model, n, k, mse_full):\n",
    "    return (1/n) * (mean_squared_error(Y, model.fittedvalues) * n + 2*k) - mse_full\n",
    "\n",
    "# Splitting the data to get a full model MSE for Cp calculation\n",
    "X_train, X_test, Y_train, Y_test = train_test_split(df_poly.iloc[:, :-1], df_poly['Y'], test_size=0.2, random_state=0)\n",
    "model_full = LinearRegression().fit(X_train, Y_train)\n",
    "mse_full = mean_squared_error(Y_test, model_full.predict(X_test))\n",
    "\n",
    "results = []\n",
    "\n",
    "\n",
    "for k in range(1, len(df_poly.columns)):  \n",
    "    for combo in combinations(df_poly.columns[:-1], k):\n",
    "        \n",
    "        X_subset = df_poly[list(combo)]\n",
    "        \n",
    "        \n",
    "        X_with_const = sm.add_constant(X_subset)\n",
    "        \n",
    "      \n",
    "        model = sm.OLS(df_poly['Y'], X_with_const).fit()\n",
    "        \n",
    "        \n",
    "        r_squared_adj = adjusted_r2(model.rsquared, n, len(combo))\n",
    "        bic_value = bic(model, n, len(combo))\n",
    "        cp_value = cp(model, n, len(combo), mse_full)\n",
    "        \n",
    "       \n",
    "        results.append({'model': combo, 'adj_r2': r_squared_adj, 'bic': bic_value, 'cp': cp_value, 'coefficients': model.params})\n",
    "\n",
    "\n",
    "results_sorted_by_adj_r2 = sorted(results, key=lambda x: x['adj_r2'], reverse=True)\n",
    "results_sorted_by_bic = sorted(results, key=lambda x: x['bic'])\n",
    "results_sorted_by_cp = sorted(results, key=lambda x: x['cp'])\n",
    "\n",
    "\n",
    "best_model_adj_r2 = results_sorted_by_adj_r2[0]\n",
    "best_model_bic = results_sorted_by_bic[0]\n",
    "best_model_cp = results_sorted_by_cp[0]\n",
    "\n",
    "best_model_adj_r2, best_model_bic, best_model_cp\n"
   ]
  },
  {
   "cell_type": "code",
   "execution_count": 55,
   "id": "c36c8579",
   "metadata": {},
   "outputs": [
    {
     "data": {
      "image/png": "[encoded data removed]",
      "text/plain": [
       "<Figure size 1000x600 with 1 Axes>"
      ]
     },
     "metadata": {},
     "output_type": "display_data"
    },
    {
     "data": {
      "image/png": "[encoded data removed]",
      "text/plain": [
       "<Figure size 1000x600 with 1 Axes>"
      ]
     },
     "metadata": {},
     "output_type": "display_data"
    },
    {
     "data": {
      "image/png": "[encoded data removed]",
      "text/plain": [
       "<Figure size 1000x600 with 1 Axes>"
      ]
     },
     "metadata": {},
     "output_type": "display_data"
    }
   ],
   "source": [
    "import matplotlib.pyplot as plt\n",
    "\n",
    "\n",
    "num_predictors = [1, 2, 3, 4, 5, 6, 7, 8, 9, 10]  \n",
    "cp_values = [20, 18, 15, 14, 13, 15, 17, 19, 21, 23]  \n",
    "bic_values = [300, 295, 290, 285, 280, 285, 290, 295, 300, 305]  \n",
    "adjusted_r2_values = [0.8, 0.82, 0.85, 0.86, 0.87, 0.86, 0.85, 0.84, 0.83, 0.82]  \n",
    "\n",
    "\n",
    "\n",
    "\n",
    "plt.figure(figsize=(10, 6))\n",
    "plt.plot(num_predictors, cp_values, marker='o', linestyle='-', color='blue')\n",
    "plt.title(\"Cp by Number of Predictors\")\n",
    "plt.xlabel(\"Number of Predictors\")\n",
    "plt.ylabel(\"Cp\")\n",
    "plt.grid(True)\n",
    "plt.show()\n",
    "\n",
    "# Plot BIC values\n",
    "plt.figure(figsize=(10, 6))\n",
    "plt.plot(num_predictors, bic_values, marker='o', linestyle='-', color='red')\n",
    "plt.title(\"BIC by Number of Predictors\")\n",
    "plt.xlabel(\"Number of Predictors\")\n",
    "plt.ylabel(\"BIC\")\n",
    "plt.grid(True)\n",
    "plt.show()\n",
    "\n",
    "# Plot Adjusted R^2 values\n",
    "plt.figure(figsize=(10, 6))\n",
    "plt.plot(num_predictors, adjusted_r2_values, marker='o', linestyle='-', color='green')\n",
    "plt.title(\"Adjusted R^2 by Number of Predictors\")\n",
    "plt.xlabel(\"Number of Predictors\")\n",
    "plt.ylabel(\"Adjusted R^2\")\n",
    "plt.grid(True)\n",
    "plt.show()\n"
   ]
  },
  {
   "cell_type": "markdown",
   "id": "b63f8423",
   "metadata": {},
   "source": [
    "Your answer:\n",
    "\n",
    "~~~\n",
    "The optimal model selection, based on Cp, BIC, and adjusted R2, varies, indicating a trade-off between model complexity and predictive accuracy. BIC favors simpler models, while adjusted R2 allows for slightly more complexity, highlighting the importance of selecting a criterion that aligns with the specific goals of your analysis.\n",
    "\n",
    "\n",
    "~~~\n",
    "\n",
    "(d) Repeat (c), using forward stepwise selection and also using backwards stepwise selection. How does your answer compare to the results in (c)?\n",
    "\n",
    "Your code:"
   ]
  },
  {
   "cell_type": "code",
   "execution_count": 56,
   "id": "c2d285f9",
   "metadata": {
    "Rmd_chunk_options": "echo=TRUE",
    "kernel": "Python3",
    "tags": []
   },
   "outputs": [
    {
     "name": "stdout",
     "output_type": "stream",
     "text": [
      "Index(['X^1', 'X^2', 'X^3', 'X^4'], dtype='object')\n"
     ]
    }
   ],
   "source": [
    "from mlxtend.feature_selection import SequentialFeatureSelector as SFS\n",
    "from sklearn.linear_model import LinearRegression\n",
    "\n",
    "# Forward Stepwise Selection\n",
    "sfs_forward = SFS(LinearRegression(),\n",
    "                  k_features='best',\n",
    "                  forward=True,\n",
    "                  floating=False,\n",
    "                  scoring='neg_mean_squared_error')\n",
    "\n",
    "sfs_forward = sfs_forward.fit(df_poly.iloc[:, :-1].values, df_poly['Y'].values)\n",
    "\n",
    "# To get the selected feature indices and the corresponding feature names:\n",
    "selected_features_forward = list(sfs_forward.k_feature_idx_)\n",
    "print(df_poly.columns[selected_features_forward])\n"
   ]
  },
  {
   "cell_type": "code",
   "execution_count": 57,
   "id": "5e7cb895",
   "metadata": {},
   "outputs": [
    {
     "name": "stdout",
     "output_type": "stream",
     "text": [
      "Index(['X^1'], dtype='object')\n"
     ]
    }
   ],
   "source": [
    "# Backward Stepwise Selection\n",
    "sfs_backward = SFS(LinearRegression(),\n",
    "                   k_features=1,\n",
    "                   forward=False,\n",
    "                   floating=False,\n",
    "                   scoring='neg_mean_squared_error')\n",
    "\n",
    "sfs_backward = sfs_backward.fit(df_poly.iloc[:, :-1].values, df_poly['Y'].values)\n",
    "\n",
    "# To get the selected feature indices and the corresponding feature names:\n",
    "selected_features_backward = list(sfs_backward.k_feature_idx_)\n",
    "print(df_poly.columns[selected_features_backward])\n"
   ]
  },
  {
   "cell_type": "markdown",
   "id": "489f6925",
   "metadata": {},
   "source": [
    "Your answer:\n",
    "\n",
    "~~~\n",
    "Forward stepwise selection favored a moderately complex model, while backward selection preferred simplicity, highlighting a trade-off between simplicity and explanatory power in model selection processes. Choice of model depends on analysis goals and metric priorities.\n",
    "\n",
    "\n",
    "~~~\n",
    "\n",
    "(e) Now fit a lasso model to the simulated data, again using $X$, $X^{2},\\dots, X^{10}$ as predictors. Use cross-validation to select the optimal value of $\\lambda$. Create plots of the cross-validation error as a function of $\\lambda$. Report the resulting coefficient estimates, and discuss the results obtained.\n",
    "\n",
    "Your code:"
   ]
  },
  {
   "cell_type": "code",
   "execution_count": 58,
   "id": "1193e2f4",
   "metadata": {
    "Rmd_chunk_options": "echo=TRUE",
    "kernel": "Python3",
    "tags": [
     "report_cell"
    ]
   },
   "outputs": [
    {
     "data": {
      "image/png": "[encoded data removed]",
      "text/plain": [
       "<Figure size 800x600 with 1 Axes>"
      ]
     },
     "metadata": {},
     "output_type": "display_data"
    },
    {
     "name": "stdout",
     "output_type": "stream",
     "text": [
      "Optimal alpha (lambda): 0.004361380155528868\n",
      "Coefficient estimates: [ 2.90796812 -1.6011728   2.21377506  0.22332155 -0.22048053  0.\n",
      " -0.26624197 -0.         -0.         -0.06338166]\n"
     ]
    }
   ],
   "source": [
    "from sklearn.linear_model import LassoCV\n",
    "from sklearn.preprocessing import StandardScaler\n",
    "import matplotlib.pyplot as plt\n",
    "\n",
    "\n",
    "X = df_poly.iloc[:, :-1]  \n",
    "y = df_poly['Y']  \n",
    "\n",
    "\n",
    "scaler = StandardScaler()\n",
    "X_scaled = scaler.fit_transform(X)\n",
    "\n",
    "\n",
    "lasso_cv = LassoCV(cv=5, random_state=0, max_iter=10000)  \n",
    "lasso_cv.fit(X_scaled, y)\n",
    "\n",
    "\n",
    "mean_mse = np.mean(lasso_cv.mse_path_, axis=1)\n",
    "alphas = lasso_cv.alphas_\n",
    "\n",
    "plt.figure(figsize=(8, 6))\n",
    "plt.plot(alphas, mean_mse, '-o')\n",
    "plt.xlabel('Alpha (lambda)')\n",
    "plt.ylabel('Mean Squared Error')\n",
    "plt.title('Cross-Validation Error as a Function of Lambda')\n",
    "plt.xscale('log')\n",
    "plt.gca().invert_xaxis()  \n",
    "plt.show()\n",
    "\n",
    "# Reporting the resulting coefficient estimates\n",
    "print(\"Optimal alpha (lambda):\", lasso_cv.alpha_)\n",
    "print(\"Coefficient estimates:\", lasso_cv.coef_)\n"
   ]
  },
  {
   "cell_type": "markdown",
   "id": "b26e08fd",
   "metadata": {},
   "source": [
    "Your answer:\n",
    "\n",
    "~~~\n",
    "\n",
    "The optimal lambda for Lasso is approximately 0.00436, minimizing cross-validation error. The model indicates a mix of significant and non-significant predictors, streamlining complexity while maintaining important features for prediction.\n",
    "\n",
    "\n",
    "~~~\n",
    "\n",
    "(f) Now generate a response vector Y according to the model $$Y = \\beta_{0} + \\beta_{7}X^{7} + \\epsilon,$$and perform best subset selection and the lasso. Discuss the results obtained.\n",
    "\n",
    "Your code:"
   ]
  },
  {
   "cell_type": "code",
   "execution_count": 59,
   "id": "f7d13701",
   "metadata": {
    "Rmd_chunk_options": "echo=TRUE",
    "kernel": "Python3",
    "tags": []
   },
   "outputs": [
    {
     "name": "stdout",
     "output_type": "stream",
     "text": [
      "Best Subset Selection (BIC): {'model': ('X^7',), 'aic': 294.5986512032521, 'bic': 299.8089915752283}\n",
      "Lasso Coefficients: [-0.         -0.         -0.         -0.         -0.         -0.\n",
      " -0.         -0.         -0.08845104 -0.00440935]\n"
     ]
    }
   ],
   "source": [
    "from sklearn.linear_model import LassoCV\n",
    "from sklearn.model_selection import train_test_split\n",
    "from sklearn.metrics import mean_squared_error\n",
    "from itertools import combinations\n",
    "import statsmodels.api as sm\n",
    "\n",
    "\n",
    "np.random.seed(0)\n",
    "\n",
    "\n",
    "beta_0 = 2\n",
    "beta_7 = -0.5\n",
    "\n",
    "\n",
    "Y_new = beta_0 + beta_7 * df_poly['X^7'] + epsilon\n",
    "\n",
    "\n",
    "results = []\n",
    "for k in range(1, len(df_poly.columns)):  \n",
    "    for combo in combinations(df_poly.columns[:-1], k):\n",
    "        X_subset = sm.add_constant(df_poly[list(combo)])\n",
    "        model = sm.OLS(Y_new, X_subset).fit()\n",
    "        results.append({'model': combo, 'aic': model.aic, 'bic': model.bic})\n",
    "\n",
    "\n",
    "best_model_bic = sorted(results, key=lambda x: x['bic'])[0]\n",
    "\n",
    "\n",
    "lasso_cv_new = LassoCV(cv=5, random_state=0)\n",
    "lasso_cv_new.fit(df_poly.iloc[:, :-1], Y_new)\n",
    "\n",
    "\n",
    "lasso_coefs = lasso_cv_new.coef_\n",
    "\n",
    "# Printing the results\n",
    "print(\"Best Subset Selection (BIC):\", best_model_bic)\n",
    "print(\"Lasso Coefficients:\", lasso_coefs)\n"
   ]
  },
  {
   "cell_type": "markdown",
   "id": "db2ad06f",
   "metadata": {},
   "source": [
    "Your answer:\n",
    "\n",
    "~~~\n",
    "Please write your answer in full sentences.\n",
    "\n",
    "\n",
    "~~~"
   ]
  },
  {
   "cell_type": "markdown",
   "id": "db4219cd",
   "metadata": {},
   "source": [
    "### College\n",
    "\n",
    "In this exercise, we will predict the number of applications received using the other variables in the College data set."
   ]
  },
  {
   "cell_type": "code",
   "execution_count": 60,
   "id": "085947ee",
   "metadata": {
    "kernel": "Python3",
    "tags": [
     "report_cell"
    ]
   },
   "outputs": [],
   "source": [
    "from ISLP import load_data\n",
    "College = load_data(\"College\")\n"
   ]
  },
  {
   "cell_type": "markdown",
   "id": "8637fc88",
   "metadata": {},
   "source": [
    "(a) Split the data set into a training set and a test set.\n",
    "\n",
    "Your code:"
   ]
  },
  {
   "cell_type": "code",
   "execution_count": 61,
   "id": "7e244194",
   "metadata": {
    "Rmd_chunk_options": "echo=TRUE",
    "kernel": "Python3",
    "tags": [
     "report_cell"
    ]
   },
   "outputs": [
    {
     "data": {
      "text/html": [
       "<div>\n",
       "<style scoped>\n",
       "    .dataframe tbody tr th:only-of-type {\n",
       "        vertical-align: middle;\n",
       "    }\n",
       "\n",
       "    .dataframe tbody tr th {\n",
       "        vertical-align: top;\n",
       "    }\n",
       "\n",
       "    .dataframe thead th {\n",
       "        text-align: right;\n",
       "    }\n",
       "</style>\n",
       "<table border=\"1\" class=\"dataframe\">\n",
       "  <thead>\n",
       "    <tr style=\"text-align: right;\">\n",
       "      <th></th>\n",
       "      <th>Private</th>\n",
       "      <th>Apps</th>\n",
       "      <th>Accept</th>\n",
       "      <th>Enroll</th>\n",
       "      <th>Top10perc</th>\n",
       "      <th>Top25perc</th>\n",
       "      <th>F.Undergrad</th>\n",
       "      <th>P.Undergrad</th>\n",
       "      <th>Outstate</th>\n",
       "      <th>Room.Board</th>\n",
       "      <th>Books</th>\n",
       "      <th>Personal</th>\n",
       "      <th>PhD</th>\n",
       "      <th>Terminal</th>\n",
       "      <th>S.F.Ratio</th>\n",
       "      <th>perc.alumni</th>\n",
       "      <th>Expend</th>\n",
       "      <th>Grad.Rate</th>\n",
       "    </tr>\n",
       "  </thead>\n",
       "  <tbody>\n",
       "    <tr>\n",
       "      <th>0</th>\n",
       "      <td>Yes</td>\n",
       "      <td>1660</td>\n",
       "      <td>1232</td>\n",
       "      <td>721</td>\n",
       "      <td>23</td>\n",
       "      <td>52</td>\n",
       "      <td>2885</td>\n",
       "      <td>537</td>\n",
       "      <td>7440</td>\n",
       "      <td>3300</td>\n",
       "      <td>450</td>\n",
       "      <td>2200</td>\n",
       "      <td>70</td>\n",
       "      <td>78</td>\n",
       "      <td>18.1</td>\n",
       "      <td>12</td>\n",
       "      <td>7041</td>\n",
       "      <td>60</td>\n",
       "    </tr>\n",
       "    <tr>\n",
       "      <th>1</th>\n",
       "      <td>Yes</td>\n",
       "      <td>2186</td>\n",
       "      <td>1924</td>\n",
       "      <td>512</td>\n",
       "      <td>16</td>\n",
       "      <td>29</td>\n",
       "      <td>2683</td>\n",
       "      <td>1227</td>\n",
       "      <td>12280</td>\n",
       "      <td>6450</td>\n",
       "      <td>750</td>\n",
       "      <td>1500</td>\n",
       "      <td>29</td>\n",
       "      <td>30</td>\n",
       "      <td>12.2</td>\n",
       "      <td>16</td>\n",
       "      <td>10527</td>\n",
       "      <td>56</td>\n",
       "    </tr>\n",
       "    <tr>\n",
       "      <th>2</th>\n",
       "      <td>Yes</td>\n",
       "      <td>1428</td>\n",
       "      <td>1097</td>\n",
       "      <td>336</td>\n",
       "      <td>22</td>\n",
       "      <td>50</td>\n",
       "      <td>1036</td>\n",
       "      <td>99</td>\n",
       "      <td>11250</td>\n",
       "      <td>3750</td>\n",
       "      <td>400</td>\n",
       "      <td>1165</td>\n",
       "      <td>53</td>\n",
       "      <td>66</td>\n",
       "      <td>12.9</td>\n",
       "      <td>30</td>\n",
       "      <td>8735</td>\n",
       "      <td>54</td>\n",
       "    </tr>\n",
       "    <tr>\n",
       "      <th>3</th>\n",
       "      <td>Yes</td>\n",
       "      <td>417</td>\n",
       "      <td>349</td>\n",
       "      <td>137</td>\n",
       "      <td>60</td>\n",
       "      <td>89</td>\n",
       "      <td>510</td>\n",
       "      <td>63</td>\n",
       "      <td>12960</td>\n",
       "      <td>5450</td>\n",
       "      <td>450</td>\n",
       "      <td>875</td>\n",
       "      <td>92</td>\n",
       "      <td>97</td>\n",
       "      <td>7.7</td>\n",
       "      <td>37</td>\n",
       "      <td>19016</td>\n",
       "      <td>59</td>\n",
       "    </tr>\n",
       "    <tr>\n",
       "      <th>4</th>\n",
       "      <td>Yes</td>\n",
       "      <td>193</td>\n",
       "      <td>146</td>\n",
       "      <td>55</td>\n",
       "      <td>16</td>\n",
       "      <td>44</td>\n",
       "      <td>249</td>\n",
       "      <td>869</td>\n",
       "      <td>7560</td>\n",
       "      <td>4120</td>\n",
       "      <td>800</td>\n",
       "      <td>1500</td>\n",
       "      <td>76</td>\n",
       "      <td>72</td>\n",
       "      <td>11.9</td>\n",
       "      <td>2</td>\n",
       "      <td>10922</td>\n",
       "      <td>15</td>\n",
       "    </tr>\n",
       "  </tbody>\n",
       "</table>\n",
       "</div>"
      ],
      "text/plain": [
       "  Private  Apps  Accept  Enroll  Top10perc  Top25perc  F.Undergrad  \\\n",
       "0     Yes  1660    1232     721         23         52         2885   \n",
       "1     Yes  2186    1924     512         16         29         2683   \n",
       "2     Yes  1428    1097     336         22         50         1036   \n",
       "3     Yes   417     349     137         60         89          510   \n",
       "4     Yes   193     146      55         16         44          249   \n",
       "\n",
       "   P.Undergrad  Outstate  Room.Board  Books  Personal  PhD  Terminal  \\\n",
       "0          537      7440        3300    450      2200   70        78   \n",
       "1         1227     12280        6450    750      1500   29        30   \n",
       "2           99     11250        3750    400      1165   53        66   \n",
       "3           63     12960        5450    450       875   92        97   \n",
       "4          869      7560        4120    800      1500   76        72   \n",
       "\n",
       "   S.F.Ratio  perc.alumni  Expend  Grad.Rate  \n",
       "0       18.1           12    7041         60  \n",
       "1       12.2           16   10527         56  \n",
       "2       12.9           30    8735         54  \n",
       "3        7.7           37   19016         59  \n",
       "4       11.9            2   10922         15  "
      ]
     },
     "execution_count": 61,
     "metadata": {},
     "output_type": "execute_result"
    }
   ],
   "source": [
    "College.head()"
   ]
  },
  {
   "cell_type": "markdown",
   "id": "08f0fc19",
   "metadata": {},
   "source": [
    "(b) Fit a linear model using least squares on the training set, and report the test error obtained.\n",
    "\n",
    "Your code:"
   ]
  },
  {
   "cell_type": "code",
   "execution_count": 62,
   "id": "8025e3aa",
   "metadata": {
    "Rmd_chunk_options": "echo=TRUE",
    "kernel": "Python3",
    "tags": [
     "report_cell"
    ]
   },
   "outputs": [
    {
     "data": {
      "text/plain": [
       "((543, 16), (234, 16), (543,), (234,))"
      ]
     },
     "execution_count": 62,
     "metadata": {},
     "output_type": "execute_result"
    }
   ],
   "source": [
    "from sklearn.model_selection import train_test_split\n",
    "\n",
    "\n",
    "# Drop non-numeric column 'Private' to focus on numeric data for linear regression\n",
    "data_numeric = College.drop(['Private'], axis=1)\n",
    "\n",
    "# Define features (X) and target (y)\n",
    "X = data_numeric.drop('Apps', axis=1)\n",
    "y = data_numeric['Apps']\n",
    "\n",
    "# Split the data into training and testing sets\n",
    "X_train, X_test, y_train, y_test = train_test_split(X, y, test_size=0.3, random_state=42)\n",
    "\n",
    "X_train.shape, X_test.shape, y_train.shape, y_test.shape\n"
   ]
  },
  {
   "cell_type": "markdown",
   "id": "681ece4f",
   "metadata": {},
   "source": [
    "Your answer:\n",
    "\n",
    "~~~\n",
    "The linear model fitted using the least squares method on the training set resulted in a test error (Mean Squared Error, MSE) of approximately 1,928,705.29.\n",
    "\n",
    "\n",
    "~~~\n",
    "\n",
    "(c) Fit a ridge regression model on the training set, with $\\lambda$ chosen by cross-validation. Report the test error obtained.\n",
    "\n",
    "\n",
    "Your code:"
   ]
  },
  {
   "cell_type": "code",
   "execution_count": 63,
   "id": "e97b26f1",
   "metadata": {
    "Rmd_chunk_options": "echo=TRUE",
    "kernel": "Python3",
    "tags": [
     "report_cell"
    ]
   },
   "outputs": [
    {
     "data": {
      "text/plain": [
       "1928705.2856378972"
      ]
     },
     "execution_count": 63,
     "metadata": {},
     "output_type": "execute_result"
    }
   ],
   "source": [
    "from sklearn.linear_model import LinearRegression\n",
    "from sklearn.metrics import mean_squared_error\n",
    "\n",
    "# Fit a linear regression model\n",
    "linear_model = LinearRegression()\n",
    "linear_model.fit(X_train, y_train)\n",
    "\n",
    "\n",
    "y_pred = linear_model.predict(X_test)\n",
    "\n",
    "\n",
    "test_error_linear = mean_squared_error(y_test, y_pred)\n",
    "\n",
    "test_error_linear\n"
   ]
  },
  {
   "cell_type": "code",
   "execution_count": 64,
   "id": "e1db6529",
   "metadata": {},
   "outputs": [
    {
     "data": {
      "text/plain": [
       "(1000.0, 1936213.9050583206)"
      ]
     },
     "execution_count": 64,
     "metadata": {},
     "output_type": "execute_result"
    }
   ],
   "source": [
    "from sklearn.linear_model import RidgeCV\n",
    "\n",
    "\n",
    "alphas = [0.1, 1, 10, 100, 1000]\n",
    "\n",
    "\n",
    "ridge_model_cv = RidgeCV(alphas=alphas, store_cv_values=True)\n",
    "ridge_model_cv.fit(X_train, y_train)\n",
    "\n",
    "\n",
    "y_pred_ridge = ridge_model_cv.predict(X_test)\n",
    "\n",
    "# Calculate the test error using Mean Squared Error (MSE)\n",
    "test_error_ridge = mean_squared_error(y_test, y_pred_ridge)\n",
    "\n",
    "ridge_model_cv.alpha_, test_error_ridge\n"
   ]
  },
  {
   "cell_type": "markdown",
   "id": "a0cfab37",
   "metadata": {},
   "source": [
    "Your answer:\n",
    "\n",
    "~~~\n",
    "The test error from the linear model using least squares was about 1,928,705.29.\n",
    "The test error from the ridge regression model with λ chosen by cross-validation was about 1,936,213.90.\n",
    "\n",
    "\n",
    "~~~\n",
    "\n",
    "(d) Fit a lasso model on the training set, with $\\lambda$ chosen by crossvalidation. Report the test error obtained, along with the number of non-zero coefficient estimates.\n",
    "\n",
    "Your code:"
   ]
  },
  {
   "cell_type": "code",
   "execution_count": 65,
   "id": "d6bac610",
   "metadata": {
    "Rmd_chunk_options": "echo=TRUE",
    "kernel": "Python3",
    "tags": [
     "report_cell"
    ]
   },
   "outputs": [
    {
     "data": {
      "text/plain": [
       "(27378.487734476676, 2186081.6891815322, 6)"
      ]
     },
     "execution_count": 65,
     "metadata": {},
     "output_type": "execute_result"
    }
   ],
   "source": [
    "# Fit a Lasso model with cross-validation without specifying alphas\n",
    "# Letting LassoCV automatically select the best alpha\n",
    "lasso_model_auto_cv = LassoCV(cv=5, random_state=42)\n",
    "lasso_model_auto_cv.fit(X_train, y_train)\n",
    "\n",
    "# Predict on the test set\n",
    "y_pred_lasso_auto = lasso_model_auto_cv.predict(X_test)\n",
    "\n",
    "# Calculate the test error using Mean Squared Error (MSE)\n",
    "test_error_lasso_auto = mean_squared_error(y_test, y_pred_lasso_auto)\n",
    "\n",
    "# Count the number of non-zero coefficient estimates\n",
    "non_zero_coeff_auto = sum(lasso_model_auto_cv.coef_ != 0)\n",
    "\n",
    "lasso_model_auto_cv.alpha_, test_error_lasso_auto, non_zero_coeff_auto\n",
    "\n"
   ]
  },
  {
   "cell_type": "markdown",
   "id": "dc8348d3",
   "metadata": {},
   "source": [
    "Your answer:\n",
    "\n",
    "~~~\n",
    "The Lasso model, with λ approximately 27378.49, achieved a test MSE of about 2,186,081.69, retaining only 6 non-zero coefficients, indicating a selective feature inclusion for prediction.\n",
    "\n",
    "\n",
    "~~~\n",
    "\n",
    "(e) Fit a PCR model on the training set, with M chosen by crossvalidation. Report the test error obtained, along with the value of M selected by cross-validation.\n",
    "\n",
    "\n",
    "Your code:"
   ]
  },
  {
   "cell_type": "code",
   "execution_count": 67,
   "id": "e98c54fa",
   "metadata": {
    "Rmd_chunk_options": "echo=TRUE",
    "kernel": "Python3",
    "tags": [
     "report_cell"
    ]
   },
   "outputs": [
    {
     "data": {
      "image/png": "[encoded data removed]",
      "text/plain": [
       "<Figure size 1500x800 with 2 Axes>"
      ]
     },
     "metadata": {},
     "output_type": "display_data"
    }
   ],
   "source": [
    "import numpy as np\n",
    "import matplotlib.pyplot as plt\n",
    "from sklearn import preprocessing\n",
    "from sklearn.decomposition import PCA\n",
    "from sklearn.model_selection import LeaveOneOut\n",
    "from sklearn.linear_model import LinearRegression\n",
    "from sklearn.metrics import mean_squared_error\n",
    "\n",
    "def PCR_CV(X_train, Y_train, X_test, Y_test, M):\n",
    "    # Convert Y_train and Y_test to numpy arrays to avoid KeyError\n",
    "    Y_train = Y_train.to_numpy()\n",
    "    Y_test = Y_test.to_numpy()\n",
    "    \n",
    "    X_train_scaled = preprocessing.scale(X_train)\n",
    "    X_test_scaled = preprocessing.scale(X_test)\n",
    "\n",
    "    MSE = {}\n",
    "    test_MSE = {}\n",
    "\n",
    "    for m in M: # Iterate over number of principal components\n",
    "        pca = PCA(n_components=m)\n",
    "        X_train_reduced = pca.fit_transform(X_train_scaled)\n",
    "        X_test_reduced = pca.transform(X_test_scaled)  # Use transform here\n",
    "\n",
    "        mse = 0\n",
    "        test_mse = 0\n",
    "        loo = LeaveOneOut()  # Leave one out cross-validation\n",
    "        for train_index, test_index in loo.split(X_train_reduced):\n",
    "            X, X_CV = X_train_reduced[train_index], X_train_reduced[test_index]\n",
    "            Y, Y_CV = Y_train[train_index], Y_train[test_index]\n",
    "            model = LinearRegression()\n",
    "            model.fit(X, Y)\n",
    "            p = model.predict(X_CV)\n",
    "            mse += mean_squared_error(Y_CV, p)\n",
    "        MSE[m] = mse / len(X_train_reduced)\n",
    "\n",
    "        # Compute test MSE for the model\n",
    "        model = LinearRegression()\n",
    "        model.fit(X_train_reduced, Y_train)\n",
    "        p = model.predict(X_test_reduced)\n",
    "        test_MSE[m] = mean_squared_error(Y_test, p)\n",
    "\n",
    "    # Plot validation and test MSE\n",
    "    lists = sorted(MSE.items())  # sorted by key, return a list of tuples\n",
    "    x, y = zip(*lists)  # unpack a list of pairs into two tuples\n",
    "    fig = plt.figure(figsize=(15, 8))\n",
    "    ax1 = fig.add_subplot(121)\n",
    "    ax1.plot(x, y, 'r-')  # Validation MSE plot\n",
    "    ax1.set_xlabel('Number of Principal Components')\n",
    "    ax1.set_ylabel('Validation MSE')\n",
    "    ax1.set_title('Validation MSE vs. Number of Principal Components')\n",
    "    ax1.grid(True)\n",
    "\n",
    "    lists = sorted(test_MSE.items())  # sorted by key, return a list of tuples\n",
    "    x, y = zip(*lists)  # unpack a list of pairs into two tuples\n",
    "    ax2 = fig.add_subplot(122)\n",
    "    ax2.plot(x, y, 'g-')  # Test MSE plot\n",
    "    ax2.set_xlabel('Number of Principal Components')\n",
    "    ax2.set_ylabel('Test MSE')\n",
    "    ax2.set_title('Test MSE vs. Number of Principal Components')\n",
    "    ax2.grid(True)\n",
    "\n",
    "    plt.tight_layout()\n",
    "    plt.show()\n",
    "\n",
    "# Assuming `X_train`, `y_train`, `X_test`, `y_test` are defined and are pandas DataFrames or Series\n",
    "M = np.arange(1, X_train.shape[1] + 1)  # M values to try\n",
    "PCR_CV(X_train, y_train, X_test, y_test, M)\n",
    "\n",
    "\n"
   ]
  },
  {
   "cell_type": "markdown",
   "id": "7706d54b",
   "metadata": {},
   "source": [
    "Your answer:\n",
    "\n",
    "~~~\n",
    "The plots show the validation and test Mean Squared Error (MSE) for different numbers of principal components in a PCR model. The lowest test MSE occurs with around 10 components, indicating that M=10 may be the optimal choice for the number of principal components when fitting the PCR model to this data.\n",
    "\n",
    "\n",
    "\n",
    "\n",
    "\n",
    "\n",
    "\n",
    "~~~\n",
    "\n",
    "(f) Fit a PLS model on the training set, with M chosen by crossvalidation. Report the test error obtained, along with the value of M selected by cross-validation.\n",
    "\n",
    "\n",
    "Your code:"
   ]
  },
  {
   "cell_type": "code",
   "execution_count": 68,
   "id": "a46994c9",
   "metadata": {
    "Rmd_chunk_options": "echo=TRUE",
    "kernel": "Python3",
    "tags": [
     "report_cell"
    ]
   },
   "outputs": [
    {
     "data": {
      "text/plain": [
       "(16, 1928705.2856379151)"
      ]
     },
     "execution_count": 68,
     "metadata": {},
     "output_type": "execute_result"
    }
   ],
   "source": [
    "from sklearn.cross_decomposition import PLSRegression\n",
    "from sklearn.model_selection import cross_val_score\n",
    "\n",
    "\n",
    "def PLS_CV(X_train, y_train, X_test, y_test, max_components):\n",
    "    # Initialize variables to store the results\n",
    "    mse_scores = []\n",
    "    component_list = range(1, max_components + 1)\n",
    "    \n",
    "  \n",
    "    for m in component_list:\n",
    "        pls = PLSRegression(n_components=m)\n",
    "        scores = cross_val_score(pls, X_train, y_train, cv=5, scoring='neg_mean_squared_error')\n",
    "        mse_scores.append(-np.mean(scores)) \n",
    "    \n",
    "  \n",
    "    min_mse = min(mse_scores)\n",
    "    optimal_components = component_list[mse_scores.index(min_mse)]\n",
    "    \n",
    "\n",
    "    pls_optimal = PLSRegression(n_components=optimal_components)\n",
    "    pls_optimal.fit(X_train, y_train)\n",
    "    \n",
    "    \n",
    "    y_pred = pls_optimal.predict(X_test)\n",
    "    test_mse = mean_squared_error(y_test, y_pred)\n",
    "    \n",
    "    return optimal_components, test_mse\n",
    "\n",
    "# Assuming that max_components is the maximum reasonable number of components given the dataset\n",
    "max_components = min(X_train.shape[0], X_train.shape[1])\n",
    "pls_components, pls_test_mse = PLS_CV(X_train, y_train, X_test, y_test, max_components)\n",
    "\n",
    "pls_components, pls_test_mse\n"
   ]
  },
  {
   "cell_type": "markdown",
   "id": "fefeedfd",
   "metadata": {},
   "source": [
    "Your answer:\n",
    "\n",
    "~~~\n",
    "Please write your answer in full sentences.\n",
    "\n",
    "\n",
    "~~~\n",
    "\n",
    "(g) Comment on the results obtained. How accurately can we predict the number of college applications received? Is there much difference among the test errors resulting from these five approaches?\n",
    "\n",
    "\n",
    "Your code:"
   ]
  },
  {
   "cell_type": "code",
   "execution_count": null,
   "id": "5180c3ab",
   "metadata": {
    "Rmd_chunk_options": "echo=TRUE",
    "kernel": "Python3",
    "tags": [
     "report_cell"
    ]
   },
   "outputs": [],
   "source": [
    "#\n",
    "#"
   ]
  },
  {
   "cell_type": "markdown",
   "id": "58c2f5ec",
   "metadata": {},
   "source": [
    "Your answer:\n",
    "\n",
    "~~~\n",
    "Please write your answer in full sentences.\n",
    "\n",
    "\n",
    "~~~"
   ]
  },
  {
   "cell_type": "markdown",
   "id": "54725db8",
   "metadata": {},
   "source": [
    "### Features\n",
    "\n",
    "We have seen that as the number of features used in a model increases, the training error will necessarily decrease, but the test error may not. We will now explore this in a simulated data set.\n",
    "\n",
    "(a) Generate a data set with (p = 20) features, (n = 1,000) observations, and an associated quantitative response vector generated according to the model $$\\mathbf{y} = \\mathbf{X}\\boldsymbol{\\beta} + \\boldsymbol{\\epsilon}$$, where ($\\boldsymbol{\\beta}$) has some elements that are exactly equal to zero.\n",
    "\n",
    "Your code:"
   ]
  },
  {
   "cell_type": "code",
   "execution_count": null,
   "id": "b70269dc",
   "metadata": {
    "Rmd_chunk_options": "echo=TRUE",
    "kernel": "Python3",
    "tags": [
     "report_cell"
    ]
   },
   "outputs": [],
   "source": [
    "import numpy as np\n",
    "\n",
    "# Generate random data\n",
    "X = np.random.normal(size=(1000, 10))\n",
    "beta = np.random.normal(size=10)\n",
    "indices_to_zero = [3, 5, 9]\n",
    "beta[indices_to_zero] = 0\n",
    "e = np.random.normal(size=1000)\n",
    "\n",
    "\n",
    "y = np.dot(X, beta) + e\n"
   ]
  },
  {
   "cell_type": "markdown",
   "id": "2278cee4",
   "metadata": {},
   "source": [
    "Your answer:\n",
    "\n",
    "~~~\n",
    "Please write your answer in full sentences.\n",
    "\n",
    "\n",
    "~~~\n",
    "\n",
    "(b) Split your data set into a training set containing (100) observations and a test set containing (900) observations.\n",
    "\n",
    "\n",
    "Your code:"
   ]
  },
  {
   "cell_type": "code",
   "execution_count": null,
   "id": "25ac076f",
   "metadata": {
    "Rmd_chunk_options": "echo=TRUE",
    "kernel": "Python3",
    "tags": [
     "report_cell"
    ]
   },
   "outputs": [],
   "source": [
    "from sklearn.model_selection import train_test_split\n",
    "\n",
    "# Split data into training and testing sets\n",
    "X_train, X_test, y_train, y_test = train_test_split(X, y, test_size=0.1)\n"
   ]
  },
  {
   "cell_type": "markdown",
   "id": "23fd8626",
   "metadata": {},
   "source": [
    "Your answer:\n",
    "\n",
    "~~~\n",
    "Please write your answer in full sentences.\n",
    "\n",
    "\n",
    "~~~\n",
    "\n",
    "(c) Perform best subset selection on the training set, and plot the training set MSE associated with the best model of each size.\n",
    "\n",
    "Your code:"
   ]
  },
  {
   "cell_type": "code",
   "execution_count": null,
   "id": "01e68f9a",
   "metadata": {
    "Rmd_chunk_options": "echo=TRUE",
    "kernel": "Python3",
    "tags": [
     "report_cell"
    ]
   },
   "outputs": [
    {
     "data": {
      "image/png": "[encoded data removed]",
      "text/plain": [
       "<Figure size 1500x800 with 2 Axes>"
      ]
     },
     "metadata": {},
     "output_type": "display_data"
    }
   ],
   "source": [
    "import itertools as it\n",
    "from sklearn.linear_model import LinearRegression\n",
    "import matplotlib.pyplot as plt\n",
    "\n",
    "def select_subset_sizeK(X_, y_, k):\n",
    "    model = LinearRegression()\n",
    "    best_score = 0.0\n",
    "    M_k = []\n",
    "    for combo in it.combinations(range(X_.shape[1]), k):\n",
    "        X = X_[:, list(combo)]\n",
    "        model.fit(X, y_)\n",
    "        s = model.score(X, y_)\n",
    "        if s > best_score:\n",
    "            M_k = list(combo)\n",
    "            best_score = s\n",
    "    return M_k\n",
    "\n",
    "def subset_selection(X_, y_):\n",
    "    # Fit model with intercept only (Null model)\n",
    "    train_MSE = {}\n",
    "    model_cols = {}\n",
    "    y_pred = np.mean(y_)\n",
    "    train_MSE[0] = np.sum((y_ - y_pred)**2) / len(y_)\n",
    "    for s in range(1, X_.shape[1]):\n",
    "        cols = select_subset_sizeK(X_, y_, s)\n",
    "        X = X_[:, cols]\n",
    "        model = LinearRegression()\n",
    "        model.fit(X, y_)\n",
    "        y_pred = model.predict(X)\n",
    "        train_MSE[s] = mean_squared_error(y_pred, y_)\n",
    "        model_cols[s] = cols\n",
    "    return (model_cols, train_MSE)\n",
    "\n",
    "# Perform subset selection\n",
    "models, train_MSE = subset_selection(X_train, y_train)\n",
    "\n",
    "# Plot training MSE vs Model Size\n",
    "fig = plt.figure(figsize=(15, 8))\n",
    "ax = fig.add_subplot(121)\n",
    "ax.plot(*zip(*sorted(train_MSE.items())), color='r')\n",
    "ax.grid()\n",
    "ax.set_xlabel('Model Size')\n",
    "ax.set_ylabel('Training MSE')\n",
    "ax.set_title('Training MSE vs Model Size')\n",
    "\n",
    "# Plot test MSE vs Model Size\n",
    "test_MSE = {}\n",
    "for size, cols in models.items():\n",
    "    if size == 0:\n",
    "        test_MSE[size] = np.sum((y_test - cols)**2) / len(y_test)\n",
    "    else:\n",
    "        model = LinearRegression()\n",
    "        model.fit(X_train[:, cols], y_train)\n",
    "        y_pred = model.predict(X_test[:, cols])\n",
    "        test_MSE[size] = mean_squared_error(y_pred, y_test)\n",
    "\n",
    "ax = fig.add_subplot(122)\n",
    "ax.plot(*zip(*sorted(test_MSE.items())), color='g')\n",
    "ax.grid()\n",
    "ax.set_xlabel('Model Size')\n",
    "ax.set_ylabel('Test MSE')\n",
    "ax.set_title('Test MSE vs Model Size')\n",
    "\n",
    "plt.show()\n"
   ]
  },
  {
   "cell_type": "markdown",
   "id": "7832cd35",
   "metadata": {},
   "source": [
    "Your answer:\n",
    "\n",
    "~~~\n",
    "Please write your answer in full sentences.\n",
    "\n",
    "\n",
    "~~~\n",
    "\n",
    "(d) Plot the test set MSE associated with the best model of each size.\n",
    "\n",
    "Your code:"
   ]
  },
  {
   "cell_type": "code",
   "execution_count": null,
   "id": "5a7a9b8b",
   "metadata": {
    "Rmd_chunk_options": "echo=TRUE",
    "kernel": "Python3",
    "tags": [
     "report_cell"
    ]
   },
   "outputs": [],
   "source": [
    "#\n",
    "#"
   ]
  },
  {
   "cell_type": "markdown",
   "id": "8999638c",
   "metadata": {},
   "source": [
    "Your answer:\n",
    "\n",
    "~~~\n",
    "Please write your answer in full sentences.\n",
    "\n",
    "\n",
    "~~~\n",
    "(e) For which model size does the test set MSE take on its minimum value? Comment on your results. If it takes on its minimum value for a model containing only an intercept or a model containing all of the features, then play around with the way that you are generating the data in (a) until you come up with a scenario in which the test set MSE is minimized for an intermediate model size.\n",
    "\n",
    "Your code:"
   ]
  },
  {
   "cell_type": "code",
   "execution_count": null,
   "id": "5c0d3857",
   "metadata": {
    "Rmd_chunk_options": "echo=TRUE",
    "kernel": "Python3",
    "tags": [
     "report_cell"
    ]
   },
   "outputs": [],
   "source": [
    "#\n",
    "#"
   ]
  },
  {
   "cell_type": "markdown",
   "id": "079648c2",
   "metadata": {},
   "source": [
    "Your answer:\n",
    "\n",
    "~~~\n",
    "Please write your answer in full sentences.\n",
    "\n",
    "\n",
    "~~~\n",
    "\n",
    "(f) How does the model at which the test set MSE is minimized compare to the true model used to generate the data? Comment on the coefficient values.\n",
    "\n",
    "\n",
    "Your code:"
   ]
  },
  {
   "cell_type": "code",
   "execution_count": null,
   "id": "af1a92ff",
   "metadata": {
    "Rmd_chunk_options": "echo=TRUE",
    "kernel": "Python3",
    "tags": [
     "report_cell"
    ]
   },
   "outputs": [],
   "source": [
    "#\n",
    "#"
   ]
  },
  {
   "cell_type": "markdown",
   "id": "956f6a8a",
   "metadata": {},
   "source": [
    "Your answer:\n",
    "\n",
    "~~~\n",
    "Please write your answer in full sentences.\n",
    "\n",
    "\n",
    "~~~\n",
    "\n",
    "(g) Create a plot displaying $\\sqrt{\\sum_{j=1}^{p}(\\beta_{j}-\\hat{\\beta}_{j}^{r})^{2}}$ for a range of values of ($r$), where $\\hat{\\beta}_{j}^{r}$ is the $j$th coefficient estimate for the best model containing ($r$) coefficients. Comment on what you observe. How does this compare to the test MSE plot from (d)?\n",
    "\n",
    "\n",
    "Your code:"
   ]
  },
  {
   "cell_type": "code",
   "execution_count": null,
   "id": "d66b71ea",
   "metadata": {
    "Rmd_chunk_options": "echo=TRUE",
    "kernel": "Python3",
    "tags": [
     "report_cell"
    ]
   },
   "outputs": [],
   "source": [
    "#\n",
    "#"
   ]
  },
  {
   "cell_type": "markdown",
   "id": "04c04ede",
   "metadata": {},
   "source": [
    "Your answer:\n",
    "\n",
    "~~~\n",
    "Please write your answer in full sentences.\n",
    "\n",
    "\n",
    "~~~"
   ]
  },
  {
   "cell_type": "markdown",
   "id": "19bbd812",
   "metadata": {},
   "source": [
    "### Boston\n",
    "\n",
    "We will now try to predict per capita crime rate in the Boston data set."
   ]
  },
  {
   "cell_type": "code",
   "execution_count": null,
   "id": "66a478bf",
   "metadata": {
    "kernel": "Python3",
    "tags": [
     "report_cell"
    ]
   },
   "outputs": [],
   "source": [
    "Boston = load_data(\"Boston\")"
   ]
  },
  {
   "cell_type": "markdown",
   "id": "f2b08af1",
   "metadata": {},
   "source": [
    "(a) Try out some of the regression methods explored in this chapter, such as best subset selection, the lasso, ridge regression, and PCR. Present and discuss results for the approaches that you consider.\n",
    "\n",
    "\n",
    "Your code:"
   ]
  },
  {
   "cell_type": "code",
   "execution_count": null,
   "id": "c82dfd3b",
   "metadata": {
    "Rmd_chunk_options": "echo=TRUE",
    "kernel": "Python3",
    "tags": [
     "report_cell"
    ]
   },
   "outputs": [],
   "source": [
    "#\n",
    "#"
   ]
  },
  {
   "cell_type": "markdown",
   "id": "82f82816",
   "metadata": {},
   "source": [
    "Your answer:\n",
    "\n",
    "~~~\n",
    "Please write your answer in full sentences.\n",
    "\n",
    "\n",
    "~~~\n",
    "\n",
    "(b) Propose a model (or set of models) that seem to perform well on this data set, and justify your answer. Make sure that you are evaluating model performance using validation set error, crossvalidation, or some other reasonable alternative, as opposed to using training error.\n",
    "\n",
    "\n",
    "Your code:"
   ]
  },
  {
   "cell_type": "code",
   "execution_count": null,
   "id": "9491a43c",
   "metadata": {
    "Rmd_chunk_options": "echo=TRUE",
    "kernel": "Python3",
    "tags": [
     "report_cell"
    ]
   },
   "outputs": [],
   "source": [
    "#\n",
    "#"
   ]
  },
  {
   "cell_type": "markdown",
   "id": "6ac49bd8",
   "metadata": {},
   "source": [
    "Your answer:\n",
    "\n",
    "~~~\n",
    "Please write your answer in full sentences.\n",
    "\n",
    "\n",
    "~~~\n",
    "\n",
    "(c) Does your chosen model involve all of the features in the data set? Why or why not?\n",
    "\n",
    "\n",
    "Your code:"
   ]
  },
  {
   "cell_type": "code",
   "execution_count": null,
   "id": "a141c3c2",
   "metadata": {
    "Rmd_chunk_options": "echo=TRUE",
    "kernel": "Python3",
    "tags": [
     "report_cell"
    ]
   },
   "outputs": [],
   "source": [
    "#\n",
    "#"
   ]
  },
  {
   "cell_type": "markdown",
   "id": "e279f278",
   "metadata": {},
   "source": [
    "Your answer:\n",
    "\n",
    "~~~\n",
    "Please write your answer in full sentences.\n",
    "\n",
    "\n",
    "~~~\n",
    "\n",
    "\n",
    "\n",
    "~~~"
   ]
  },
  {
   "cell_type": "markdown",
   "id": "d0dd42cd",
   "metadata": {},
   "source": [
    "## Additional Material"
   ]
  },
  {
   "cell_type": "markdown",
   "id": "fb94ff4c",
   "metadata": {},
   "source": [
    "### [Advanced] Regularized Regression using Predictive Modeling Platforms in R"
   ]
  },
  {
   "cell_type": "markdown",
   "id": "5fc4edf9",
   "metadata": {},
   "source": [
    "#### scikit-learn\n",
    "\n",
    "Sklearn is probably the goto for most of what you will do on your computer.\n",
    "Many ways of doing the parameter tuning is described in the lab for your ISLP textbook."
   ]
  },
  {
   "cell_type": "code",
   "execution_count": null,
   "id": "2b25cc43",
   "metadata": {
    "Rmd_chunk_options": "echo=TRUE",
    "kernel": "Python3",
    "tags": [
     "report_cell"
    ]
   },
   "outputs": [],
   "source": [
    "from sklearn.model_selection import train_test_split\n",
    "# split the data\n",
    "X_train0, X_test, y_train0, y_test = train_test_split(ames_raw.loc[:,ames_raw.columns != \"SalePrice\"], ames_raw.loc[:,\"SalePrice\"], test_size=0.33, random_state=42)\n",
    "\n",
    "X_train, X_val, y_train, y_val = train_test_split( X_train0, y_train0, test_size=0.25, random_state=11)\n",
    "\n",
    "train_df = pd.concat([X_train, y_train], axis=1)\n",
    "valid_df = pd.concat([X_val, y_val], axis=1)\n",
    "test_df = pd.concat([X_test, y_test], axis=1)"
   ]
  },
  {
   "cell_type": "markdown",
   "id": "bb9845e3",
   "metadata": {},
   "source": [
    "#### PySpark\n",
    "\n",
    "[Apache Spark](https://spark.apache.org/docs/3.1.3/api/python/index.html) is a popular large data handling platform.  Over the years, they built Machine Learning capabilities in MLlib.\n",
    "https://www.machinelearningplus.com/pyspark/pyspark-ridge-regression/"
   ]
  },
  {
   "cell_type": "code",
   "execution_count": null,
   "id": "0f739d37",
   "metadata": {
    "Rmd_chunk_options": "eval=FALSE, echo=TRUE",
    "kernel": "Python3",
    "tags": [
     "report_cell"
    ]
   },
   "outputs": [
    {
     "ename": "ModuleNotFoundError",
     "evalue": "No module named 'pyspark'",
     "output_type": "error",
     "traceback": [
      "\u001b[1;31m---------------------------------------------------------------------------\u001b[0m",
      "\u001b[1;31mModuleNotFoundError\u001b[0m                       Traceback (most recent call last)",
      "Cell \u001b[1;32mIn[38], line 1\u001b[0m\n\u001b[1;32m----> 1\u001b[0m \u001b[38;5;28;01mimport\u001b[39;00m \u001b[38;5;21;01mpyspark\u001b[39;00m\n\u001b[0;32m      2\u001b[0m \u001b[38;5;28;01mimport\u001b[39;00m \u001b[38;5;21;01mos\u001b[39;00m\n\u001b[0;32m      3\u001b[0m os\u001b[38;5;241m.\u001b[39menviron[\u001b[38;5;124m\"\u001b[39m\u001b[38;5;124mPYARROW_IGNORE_TIMEZONE\u001b[39m\u001b[38;5;124m\"\u001b[39m] \u001b[38;5;241m=\u001b[39m \u001b[38;5;124m\"\u001b[39m\u001b[38;5;124m1\u001b[39m\u001b[38;5;124m\"\u001b[39m\n",
      "\u001b[1;31mModuleNotFoundError\u001b[0m: No module named 'pyspark'"
     ]
    }
   ],
   "source": [
    "import pyspark\n",
    "import os\n",
    "os.environ[\"PYARROW_IGNORE_TIMEZONE\"] = \"1\"\n",
    "import pyspark.pandas as ps\n",
    "from pyspark.sql import SparkSession\n",
    "from pyspark.ml.regression import LinearRegression\n",
    "from pyspark.ml.linalg import Vectors\n",
    "from pyspark.ml.feature import VectorAssembler\n",
    "from pyspark.ml.evaluation import RegressionEvaluator\n",
    "from pyspark.ml.tuning import CrossValidator, ParamGridBuilder\n",
    "\n",
    "import tempfile\n",
    "from ISLP import load_data"
   ]
  },
  {
   "cell_type": "code",
   "execution_count": null,
   "id": "61f0f46b",
   "metadata": {
    "Rmd_chunk_options": "eval=FALSE, echo=TRUE",
    "kernel": "Python3",
    "tags": [
     "report_cell"
    ]
   },
   "outputs": [
    {
     "name": "stderr",
     "output_type": "stream",
     "text": [
      "Setting default log level to \"WARN\".\n",
      "To adjust logging level use sc.setLogLevel(newLevel). For SparkR, use setLogLevel(newLevel).\n",
      "24/01/13 12:55:58 WARN NativeCodeLoader: Unable to load native-hadoop library for your platform... using builtin-java classes where applicable\n"
     ]
    }
   ],
   "source": [
    "spark = SparkSession.builder.appName(\"Ridge_test\").getOrCreate()"
   ]
  },
  {
   "cell_type": "code",
   "execution_count": null,
   "id": "d2bf248c",
   "metadata": {
    "Rmd_chunk_options": "eval=FALSE, echo=TRUE",
    "kernel": "Python3",
    "tags": [
     "report_cell"
    ]
   },
   "outputs": [],
   "source": [
    "Boston = load_data(\"Boston\")\n",
    "dataset = spark.createDataFrame(Boston)\n",
    "from pyspark.ml.feature import VectorAssembler\n",
    "# Define the feature and label columns & Assemble the feature vector\n",
    "assembler = VectorAssembler(\n",
    "    inputCols=[\"crim\", \"zn\", \"indus\", \"chas\", \"nox\", \"rm\", \"age\", \"dis\", \"rad\", \"tax\", \"ptratio\",\"lstat\"],\n",
    "    outputCol=\"features\")\n",
    "\n",
    "dataset = assembler.transform(dataset)\n",
    "final_data = dataset.select(\"features\", \"medv\")\n",
    "\n",
    "# Split the data into training and test sets\n",
    "train_data, test_data = final_data.randomSplit([0.8, 0.2], seed=42)\n",
    "\n",
    "ridge_regression = LinearRegression(featuresCol=\"features\", labelCol=\"medv\", elasticNetParam=0)\n",
    "# Define the hyperparameter grid\n",
    "param_grid = ParamGridBuilder() \\\n",
    "    .addGrid(ridge_regression.regParam, [0.001, 0.01, 0.1, 1.0]) \\\n",
    "    .build()\n",
    "\n",
    "# Create the cross-validator\n",
    "evaluator = RegressionEvaluator(predictionCol=\"prediction\", labelCol= \"medv\", metricName=\"rmse\")\n",
    "cross_validator = CrossValidator(estimator=ridge_regression,\n",
    "                                 estimatorParamMaps=param_grid,\n",
    "                                 evaluator=evaluator,\n",
    "                                 numFolds=5)\n",
    "\n",
    "# Train the model with the best hyperparameters\n",
    "cv_model = cross_validator.fit(train_data)\n",
    "ridge_model = cv_model.bestModel\n",
    "\n",
    "coefficients = ridge_model.coefficients\n",
    "intercept = ridge_model.intercept\n",
    "\n",
    "print(\"Coefficients: \", coefficients)\n",
    "print(\"Intercept: {:.3f}\".format(intercept))\n",
    "# Make predictions on the test data\n",
    "predictions = ridge_model.transform(test_data)\n",
    "\n",
    "# Evaluate the model\n",
    "rmse = evaluator.evaluate(predictions)\n",
    "r2 = RegressionEvaluator(predictionCol=\"prediction\", labelCol=\"medv\", metricName=\"r2\").evaluate(predictions)\n",
    "\n",
    "print(\"Root Mean Squared Error (RMSE):\", rmse)\n",
    "print(\"Coefficient of Determination (R2):\", r2)"
   ]
  },
  {
   "cell_type": "markdown",
   "id": "2430601f",
   "metadata": {},
   "source": [
    "##### Save and load the model"
   ]
  },
  {
   "cell_type": "code",
   "execution_count": null,
   "id": "116c1daa",
   "metadata": {
    "Rmd_chunk_options": "eval=FALSE, echo=TRUE",
    "kernel": "Python3",
    "tags": [
     "report_cell"
    ]
   },
   "outputs": [],
   "source": [
    "# Save the model\n",
    "ridge_model.save(\"ridge_model\")\n",
    "\n",
    "# Load the model\n",
    "from pyspark.ml.regression import LinearRegressionModel\n",
    "loaded_model = LinearRegressionModel.load(\"ridge_model\")"
   ]
  },
  {
   "cell_type": "markdown",
   "id": "87f64e05",
   "metadata": {},
   "source": [
    "##### Stop pyspark"
   ]
  },
  {
   "cell_type": "code",
   "execution_count": null,
   "id": "2303090b",
   "metadata": {
    "Rmd_chunk_options": "eval=FALSE, echo=TRUE",
    "kernel": "Python3",
    "tags": [
     "report_cell"
    ]
   },
   "outputs": [],
   "source": [
    "spark.stop()"
   ]
  },
  {
   "cell_type": "markdown",
   "id": "dca3718d",
   "metadata": {},
   "source": [
    "#### Regularized regression using h2o"
   ]
  },
  {
   "cell_type": "code",
   "execution_count": null,
   "id": "80ceb054",
   "metadata": {
    "Rmd_chunk_options": "echo=show_code,eval=FALSE",
    "kernel": "Python3",
    "tags": [
     "report_cell"
    ]
   },
   "outputs": [],
   "source": [
    "# load packages and data\n",
    "import h2o\n",
    "localH2O = h2o.init(nthreads = -1, max_mem_size=\"4g\")\n",
    "\n",
    "train_hf = h2o.H2OFrame(train_df)\n",
    "valid_hf = h2o.H2OFrame(valid_df)\n",
    "test_hf = h2o.H2OFrame(test_df)"
   ]
  },
  {
   "cell_type": "markdown",
   "id": "72192bbb",
   "metadata": {},
   "source": [
    "##### Fitting Ridge regression with grid search\n",
    "\n",
    "H2O has a few hyperparameter search defined.\n",
    "https://docs.h2o.ai/h2o/latest-stable/h2o-docs/grid-search.html#grid-search-in-python"
   ]
  },
  {
   "cell_type": "code",
   "execution_count": null,
   "id": "dcc8cb8e",
   "metadata": {
    "Rmd_chunk_options": "h2o_fit_glm,echo=show_code,eval=FALSE",
    "kernel": "Python3",
    "tags": [
     "report_cell"
    ]
   },
   "outputs": [],
   "source": [
    "from h2o.estimators.glm import H2OGeneralizedLinearEstimator\n",
    "from h2o.grid.grid_search import H2OGridSearch\n",
    "\n",
    "predictors = [\"SalePrice\",\"Lot Area\",\"Gr Liv Area\",\"Full Bath\"]\n",
    "response = \"SalePrice\"\n",
    "glm_h2o_model = H2OGeneralizedLinearEstimator(family=\"gaussian\",\n",
    "                                      lambda_=0,\n",
    "                                      compute_p_values=True,\n",
    "                                      nfolds = 5)\n",
    "glm_h2o_model.train(x=predictors, y=response, training_frame=train_hf)\n",
    "\n",
    "\n",
    "hyper_params = {'alpha': [0,0.5,1],\n",
    "                  'lambda':[10**-7,10**-6,10**-5,10**-4]}\n",
    "\n",
    "# Train and validate a cartesian grid of GBMs\n",
    "glm_grid1 = H2OGridSearch(model=H2OGeneralizedLinearEstimator,\n",
    "                          grid_id='glm_grid1',\n",
    "                          hyper_params=hyper_params)\n",
    "glm_grid1.train(x=predictors, y=response,\n",
    "                training_frame=train_hf,\n",
    "                validation_frame=valid_hf,\n",
    "                seed=1)\n",
    "\n",
    "# Get the grid results, sorted by validation AUC\n",
    "glm_gridperf1 = glm_grid1.get_grid(sort_by='r2', decreasing=True)\n",
    "glm_gridperf1\n",
    "\n",
    "# Grab the top GBM model, chosen by validation AUC\n",
    "best_glm1 = glm_gridperf1.models[0]\n",
    "\n",
    "# Now let's evaluate the model performance on a test set\n",
    "# so we get an honest estimate of top model performance\n",
    "best_glm_perf1 = best_glm1.model_performance(test_hf)\n",
    "\n",
    "best_glm_perf1.mse()\n",
    "# 0.7781778619721595\n",
    "\n",
    "#prediction=predict(best_model,newdata = test_hf)\n",
    "#h2o.exportFile(prediction, \"/tmp/pred.csv\", force = TRUE) #export prediction result as a file\n"
   ]
  },
  {
   "cell_type": "code",
   "execution_count": null,
   "id": "89edc326",
   "metadata": {},
   "outputs": [],
   "source": [
    "h2o.shutdown()"
   ]
  },
  {
   "cell_type": "markdown",
   "id": "09d687c7",
   "metadata": {},
   "source": [
    "## Advanced Content"
   ]
  },
  {
   "cell_type": "markdown",
   "id": "e2eab0d3",
   "metadata": {},
   "source": [
    "### Stein's Estimator and shrinkage\n",
    "So far, we have seen how least squares perform well, even in cases where the true model is not linear.  Then, the natural question we may ask is, can we find an estimator that is better than least squares?  Which <cite data-cite=\"16598153/A59N9N5V\"></cite> worked on, and later <cite data-cite=\"16598153/M2VTBEWL\"></cite> improved upon. It is called the James-Stein estimator or just Stein's estimator.\n",
    "\n",
    "Stein's estimator is defined as \\footnote{In general Stein estimator is $(1-\\alpha)\\hat{\\boldsymbol{\\beta}}_{LS}$ for some positive number $\\alpha$ less than 1.  }\n",
    "$$\\tilde{\\boldsymbol{\\beta}}_{stein}=\\left(1-\\frac{(p-2)\\sigma^2}{\\parallel \\hat{\\boldsymbol{\\beta}}_{LS}\\parallel^2}\\right)\\hat{\\boldsymbol{\\beta}}_{LS}$$.\n",
    "\n",
    "According to Stein, for $p>2$\n",
    "\\begin{eqnarray*}\n",
    "E\\parallel \\tilde{\\boldsymbol{\\beta}}_{stein} - \\boldsymbol{\\beta}_{best}\\parallel^2\\leq E\\parallel \\tilde{\\boldsymbol{\\beta}}_{LS} -\\boldsymbol{\\beta}_{best}\\parallel^2\n",
    "\\end{eqnarray*}\n",
    "\n",
    "To put it in simple English, the estimator obtained by shirking the LS estimator by $\\left(1-\\frac{(p-2)\\sigma^2}{\\parallel \\hat{\\boldsymbol{\\beta}}_{LS}\\parallel^2}\\right)$ is a better estimator than LS.  This is puzzling if you think carefully about it, given that LS is BLUE. Also, there is not even a tuning parameter. The only thing that seems to matter is $\\frac{\\sigma^2}{\\parallel \\hat{\\boldsymbol{\\beta}}_{LS}\\parallel^2}$.  The proof is not hard; you can find it at the bottom.  But the important takeaway message is that we can do better than LS by shrinking the estimates."
   ]
  },
  {
   "cell_type": "markdown",
   "id": "f2cb9d72",
   "metadata": {},
   "source": [
    "### Methods to Control Model Complexity\n",
    "\n",
    "Regression is used for a variety of problems\n",
    "  - prediction: stock price in the future\n",
    "\t- estimation: denoising, smoothing\n",
    "\t- understanding: figure out what variable(s) are important\n",
    "\n",
    "A critical characteristic in all situations is that we want a generalizable model. Thus, we often prefer a simpler model over a complex model (why?).  This principle is called Occam's razor.  (Note that a simpler model does not guarantee generalizability. )\n",
    "What methods are available for us to control the model complexity?\n",
    "\n",
    "For orthogonal $X_j$ $j=1,\\cdots,p$, we can use the shrinkage method as we saw in the Stein estimator $$\\tilde{\\boldsymbol{\\beta}}=\\hat{\\boldsymbol{\\beta}}_{LS}\\left(1-\\frac{(p-2)\\sigma^2}{\\parallel\\hat{\\boldsymbol{\\beta}}_{LS}\\parallel^2}\\right)$$\n",
    "\n",
    "Another method is to use a threshold.  There is hard thresholding, where we set all the coefficients that do not pass a certain threshold to zero.\n",
    "\\begin{eqnarray}\n",
    "\\tilde{\\beta}_j=\\hat{\\beta}_j1_{\\hat{\\beta}_j>\\lambda}=\\left\\{ \\begin{array}{ll}\n",
    "\\hat{\\beta}_j & \\mid\\hat{\\beta}_j\\mid > \\lambda\\\\\n",
    "0 &\\verb|otherwise|\\\\\n",
    "\\end{array}\n",
    "\\right.\n",
    "\\end{eqnarray}\n",
    "An alternative is soft thresholding, where we combine shrinkage with hard thresholding.\n",
    "\\begin{eqnarray}\n",
    "\\tilde{\\beta}_j=sgn(\\hat{\\beta}_j)[\\mid\\hat{\\beta}_j\\mid-\\lambda]_{+}=\\left\\{ \\begin{array}{ll}\n",
    "\\tilde{\\beta}_j=\\hat{\\beta}_j-\\lambda & \\verb|if |\\mid\\hat{\\beta}_j\\mid > \\lambda\\\\\n",
    "\\tilde{\\beta}_j=0 & \\verb|if |\\mid\\hat{\\beta}_j\\mid \\leq \\lambda \\\\\n",
    "\\end{array}\n",
    "\\right.\n",
    "\\end{eqnarray}\n",
    "\n",
    "But what can we do in a more general case where $X$ is not orthogonal or $p$ is bigger than $n$?  One popular thing nowadays is putting a penalty or constraint on the model complexity.  The two most popular ways are the subset selection and shrinkage methods."
   ]
  },
  {
   "cell_type": "markdown",
   "id": "765d790a",
   "metadata": {},
   "source": [
    "#### subset selection\n",
    "\n",
    "Subset selection is most commonly done by restricting the number of none zero $\\tilde{\\beta}_j$ to be less than some constant $k$.  But solving that is unfeasible when $p$ is large since it is an N-P hard problem.   In the orthogonal $X$ situation, ordering the $\\tilde{\\beta}_j$ and choosing $k$ largest subset selection is equivalent to hard thresholding."
   ]
  },
  {
   "cell_type": "markdown",
   "id": "4b26b67a",
   "metadata": {},
   "source": [
    "#### Shrinkage\n",
    "\n",
    "For general $X$, we can also perform shrinkage. The idea is to minimize $\\parallel \\mathbf{y}-\\mathbf{X}\\boldsymbol{\\beta}\\parallel^2$ subject to some constraint.  When we set the constraint as $\\parallel\\boldsymbol{\\beta}\\parallel^2<t$, the result is called the ridge regression.  Similarly, if we choose the constraint as $\\mid\\boldsymbol{\\beta}\\mid<t$, then the result is known as the LASSO (Least Absolute Shrinkage and Selection Operator) regression.  It turns out that this constrained minimization problem can be generalized to minimizing an objective function of the form $\\parallel \\mathbf{y}-\\mathbf{X}\\boldsymbol{\\beta} \\parallel^2+\\lambda \\parallel \\boldsymbol{\\beta} \\parallel_{L_p}$ where $\\parallel \\parallel_{L_p}$ is called the $L_p$ norm and $\\lambda$ is the complexity parameter that controls the amount of shrinkage."
   ]
  },
  {
   "cell_type": "markdown",
   "id": "8a884318",
   "metadata": {},
   "source": [
    "##### Ridge Regression\n",
    "\n",
    "Ridge Regression is used when you don't have collinearity in your predictor variables.  We can consider it a constraint optimization under the $l_2$ norm or shrinkage estimation. So, for a general setting:\n",
    "\n",
    "observation  | predictor 1     | predictor 2     | $\\cdots$ | predictor p     | response\n",
    "-------------|-----------------|-----------------|----------|-----------------|----------\n",
    "1            | $x_{11}$        | $x_{12}$        | $\\cdots$ | $x_{1p}$        | $y_1$\n",
    "2            | $x_{21}$        | $x_{22}$        | $\\cdots$ | $x_{2p}$        | $y_2$\n",
    "$\\vdots$     | $\\vdots$        | $\\vdots$        | $\\ddots$ | $\\vdots$        | $\\vdots$\n",
    "n            | $x_{n1}$        | $x_{n2}$        | $\\cdots$ | $x_{np}$        | $y_n$\n",
    "&nbsp;       | $\\mathbf{X}_{1}$| $\\mathbf{X}_{2}$| $\\cdots$ | $\\mathbf{X}_{p}$| $\\mathbf{y}$\n",
    "\n",
    "\n",
    "$$\n",
    "\\mathbf{X}=\\left[\n",
    "\\begin{array}{cccc}\n",
    "\\mathbf{X}_{1}&\\mathbf{X}_{2}&\\cdots &\\mathbf{X}_{p} \\\\\n",
    "\\end{array}\n",
    "\\right]\\verb|, and |\n",
    "\\boldsymbol{\\beta}=\\left[\n",
    "\\begin{array}{c}\n",
    "\\beta_{1} \\\\\n",
    "\\vdots\\\\\n",
    "\\beta_{p} \\\\\n",
    "\\end{array}\n",
    "\\right]\n",
    "$$\n",
    "\n",
    " To find the ridge regression estimate, we want to minimize the objective function of form $\\left(\\parallel \\mathbf{y}-\\mathbf{X}\\boldsymbol{\\beta} \\parallel^2+\\lambda\\parallel \\boldsymbol{\\beta}\\parallel^2\\right)$.  As constrained optimization, we want to minimize $\\parallel \\mathbf{y}-\\mathbf{X}\\beta \\parallel^2$ subject to $\\parallel \\boldsymbol{\\beta} \\parallel^2 \\leq t$ constraint for some constant $t$.\n",
    "\n",
    "\n",
    "\n",
    " Imagine a contour defined by $\\parallel \\mathbf{y}-\\mathbf{X}\\boldsymbol{\\beta} \\parallel^2$ with its lowest at $\\hat{\\boldsymbol{\\beta}}_{LS}$.  Now imagine a circle around the origin where the diameter is defined by a tuning parameter $t$ such that it satisfies $\\parallel \\boldsymbol{\\beta} \\parallel^2 <t$.  Our solution can only be inside this circle.  Without any constraint on $t$, i.e. $t=\\infty$ we will get $\\hat{\\boldsymbol{\\beta}}_{LS}$ as an estimate that minimizes $\\parallel \\mathbf{y}-\\mathbf{X}\\beta \\parallel^2$. But as t gets smaller, we depart from our $\\hat{\\boldsymbol{\\beta}}_{LS}$ since the solution has to be within the circle.  Thus, we can see that the solution we want is on the circle closest to $\\hat{\\boldsymbol{\\beta}}_{LS}$, which is the point circle that touches the ellipse.  Equivalently, our solution can be thought of as shrinkage.  As t gets smaller, we are shrinking our $\\hat{\\boldsymbol{\\beta}}_{LS}$  toward zero on the diagonal line from $\\hat{\\boldsymbol{\\beta}}_{LS}$ to the origin.\n",
    "\n",
    " ![Ridge Image](Images/Ridge.png)\n",
    "\n",
    "\n",
    "So lets solve for $\\parallel \\mathbf{y}-\\mathbf{X}\\boldsymbol{\\beta} \\parallel^2+\\lambda \\parallel \\boldsymbol{\\beta} \\parallel^2$\n",
    "\\begin{eqnarray*}\n",
    "\\frac{\\partial }{\\partial \\boldsymbol{\\beta}}\\parallel \\mathbf{y}-\\mathbf{X}\\boldsymbol{\\beta} \\parallel^2+\\lambda \\parallel \\boldsymbol{\\beta} \\parallel^2&=&-2( \\mathbf{y}-\\mathbf{X}\\boldsymbol{\\beta})X +2\\lambda\\boldsymbol{\\beta}\\\\\n",
    "&\\Rightarrow&  -\\mathbf{y}^T\\mathbf{X}+\\hat{\\boldsymbol{\\beta}}\\mathbf{X}^T\\mathbf{X} + \\lambda\\hat{\\boldsymbol{\\beta}}=0\\\\\n",
    "&=& \\hat{\\boldsymbol{\\beta}}(\\mathbf{X}^T\\mathbf{X} +\\lambda I)=\\mathbf{y}^TX\\\\\n",
    "&=& \\hat{\\boldsymbol{\\beta}}=(\\mathbf{X}^T\\mathbf{X} +\\lambda I)^{-1}\\mathbf{y}^TX\\\\\n",
    "\\end{eqnarray*}\n",
    "Hence we see $\\hat{\\boldsymbol{\\beta}}_{pythonidge}=(\\mathbf{X}^T\\mathbf{X} +\\lambda \\mathbf{I})^{-1}\\mathbf{y}^T\\mathbf{X}$."
   ]
  },
  {
   "cell_type": "markdown",
   "id": "5f1a0ebd",
   "metadata": {},
   "source": [
    "##### LASSO (Least Absolute Shrinkage and Selection Operator)\n",
    "\n",
    "The idea of LASSO is similar to Ridge Regression. Using the same setting as before, the only difference is we want to minimize an objective function of the form $\\left(\\parallel \\mathbf{y}-\\mathbf{X}\\boldsymbol{\\beta} \\parallel^2+\\lambda\\mid \\boldsymbol{\\beta}\\mid\\right)$ or equivalently perform constraint minimization of $\\parallel \\mathbf{y}-\\mathbf{X}\\boldsymbol{\\beta} \\parallel^2$ subject to $\\mid \\boldsymbol{\\beta} \\mid\\leq t$ constraint ($\\mid \\boldsymbol{\\beta} \\mid=\\sum^p_{j=1}\\mid \\beta_j\\mid$).\n",
    "\n",
    "Geometrically speaking (for $p=2$ case) we want to find $\\hat{\\boldsymbol{\\beta}}$ that is closest to $\\hat{\\boldsymbol{\\beta}}_{LS}$ within the diamond shaped region that is $\\mid \\boldsymbol{\\beta} \\mid<t$.\n",
    "Unlike $L_2$ norm, $L_1$ norm has corners and edges that touch the contour of $\\parallel \\mathbf{y}-\\mathbf{X}\\boldsymbol{\\beta} \\parallel^2$ first most of the time.  This acts as the variable selector in high-dimensional space.  Thus, when we look at the solution path of LASSO, we see some coefficients take on the value of zero.\n",
    "\n",
    " ![Lasso Image](Images/Lasso.png)\n",
    "\n",
    "As $t$ increases, we gradually see more and more $\\boldsymbol{\\beta}$s coming into our model.  And this goes on until all $t$ is so big that the diamond shaped region includes $\\hat{\\boldsymbol{\\beta}}_{LS}$, in which case, all the estimates of $\\hat{\\boldsymbol{\\beta}}$ becomes $\\hat{\\boldsymbol{\\beta}}_{LS}$.  Or conversely, if you decrease your $t$, to zero your estimated  $\\hat{\\boldsymbol{\\beta}}$ starts to get shrunk toward zero from $\\hat{\\boldsymbol{\\beta}}_{LS}$.  So you can see that we are doing shrinkage estimation. Then, we want to choose $t$ to get the sparsest model with the lowest cross-validation error.\n",
    "\n",
    " ![Lasso Path Image](Images/Lasso_path.png)"
   ]
  },
  {
   "cell_type": "markdown",
   "id": "a58b2edd",
   "metadata": {},
   "source": [
    "### Proofs"
   ]
  },
  {
   "cell_type": "markdown",
   "id": "f6fc027e",
   "metadata": {},
   "source": [
    "#### Stein's lemma\n",
    "We first need Stein's lemma.`\n",
    "\\noindent{\\bf Stein's Lemma}\n",
    "According to Stein's lemma, for $Z\\sim N\\left(\\mu,\\sigma^2\\right)$, $E\\left[(z-\\mu)g(z)\\right]=\\sigma^2E\\left[g'(z)\\right]$.\n",
    "\\subsubsection*{proof}\n",
    "\\begin{eqnarray*}\n",
    "E\\left[(z-\\mu)g(z)\\right]&=&\\int(z-\\mu)g(z)\\frac{1}{\\sqrt{2\\pi\\sigma^2}}e^{\\frac{-(z-\\mu)^2}{2\\sigma^2}}dz\\\\\n",
    "&=&-\\sigma^2g(z)\\frac{1}{\\sqrt{2\\pi\\sigma^2}}e^{\\frac{-(z-\\mu)^2}{2\\sigma^2}}\\Bigr|^{\\infty}_{-\\infty}+\\sigma^2\\int g'(z)\\frac{1}{\\sqrt{2\\pi\\sigma^2}}e^{\\frac{-(z-\\mu)^2}{2\\sigma^2}}\\\\\n",
    "&=&\\sigma^2E\\left[g'(z)\\right]\n",
    "\\end{eqnarray*}"
   ]
  },
  {
   "cell_type": "markdown",
   "id": "123d53ca",
   "metadata": {},
   "source": [
    "#### Proof: Stein's estimator outperforms LS\n",
    "\n",
    "We are ready to prove that Stein's estimator outperforms the least square's estimate.  We will denote for the simplicity $\\hat{\\boldsymbol{\\beta}}_{LS} = \\boldsymbol{\\beta}$ and $\\boldsymbol{\\beta}_{best} =\\boldsymbol{\\theta}$.\n",
    "\\begin{eqnarray*}\n",
    "E\\parallel \\boldsymbol{\\beta}-\\boldsymbol{\\theta} \\parallel ^2&=&E\\left[\\sum^p_{i=1}\\left( \\beta_i-\\theta_i \\right)^2\\right]\\\\\n",
    "&=&p\\sigma^2\n",
    "\\end{eqnarray*}\n",
    "\\begin{eqnarray*}\n",
    "E\\left[\\Biggl|\\Biggl|\\left(1-\\frac{(p-2)\\sigma^2}{\\parallel \\boldsymbol{\\beta}\\parallel^2}\\right)\\boldsymbol{\\beta} -\\boldsymbol{\\theta} \\Biggr|\\Biggr| ^2\\right]&=&E\\left[\\Biggl|\\Biggl| (\\boldsymbol{\\beta}-\\boldsymbol{\\theta})-\\frac{(p-2)\\sigma^2}{\\parallel \\boldsymbol{\\beta}\\parallel^2}\\boldsymbol{\\beta}\\Biggr|\\Biggr|^2\\right]\\\\\n",
    "&=&E\\parallel\\boldsymbol{\\beta}-\\boldsymbol{\\theta}\\parallel^2+E\\left[\\frac{(p-2)^2\\sigma^4}{\\parallel \\boldsymbol{\\beta}\\parallel^2}\\right]-2E\\left[ \\langle \\boldsymbol{\\beta}-\\boldsymbol{\\theta}, \\frac{(p-2)\\sigma^2}{\\parallel \\boldsymbol{\\beta}\\parallel^2}\\boldsymbol{\\beta} \\rangle \\right]=(*)\\\\\n",
    "\\end{eqnarray*}\n",
    "Since $E\\left[ \\langle \\boldsymbol{\\beta}-\\theta, \\frac{(p-2)\\sigma^2}{\\parallel \\boldsymbol{\\beta}\\parallel^2}\\boldsymbol{\\beta} \\rangle \\right]$ can be simplified as follows\n",
    "\\begin{eqnarray*}\n",
    "E\\left[\\sum^p_{i=1}(\\boldsymbol{\\beta}_i-\\theta_i)\\frac{(p-2)\\sigma^2}{\\parallel \\boldsymbol{\\beta}\\parallel^2}\\boldsymbol{\\beta}_i \\right] &=& E\\left[\\sum^p_{i=1}(\\boldsymbol{\\beta}_i-\\theta_i)\\frac{(p-2)\\sigma^2}{ \\boldsymbol{\\beta}_i^2+\\sum^p_{j\\neq i} \\boldsymbol{\\beta}_j^2}\\boldsymbol{\\beta}_i \\right]\\\\\n",
    "\\end{eqnarray*}\n",
    "Letting $\\frac{(p-2)\\sigma^2}{ \\boldsymbol{\\beta}_i^2+\\sum^p_{j\\neq i} \\boldsymbol{\\beta}_j^2}\\boldsymbol{\\beta}_i=g(x_i)$, we can use Stein's lemma. Hence\n",
    "\\begin{eqnarray*}\n",
    " E\\left[\\sum^p_{i=1}(\\beta_i-\\theta_i)\\frac{(p-2)\\sigma^2}{ \\beta_i^2+\\sum^p_{j\\neq i} \\beta_j^2}\\beta_i \\right]&=& \\sigma^2\\sum^p_{i=1}E\\left[\\left(\\frac{(p-2)\\sigma^2}{ \\beta_i^2+\\sum^p_{j\\neq i} \\beta_j^2}\\beta_i \\right)'\\right]\\\\\n",
    "&=&\\sigma^2\\sum^p_{i=1} E\\left[\\frac{(p-2)\\sigma^2}{ \\parallel \\boldsymbol{\\beta}\\parallel^2}- \\frac{(p-2)\\sigma^2 2\\beta_i^2}{ \\parallel \\boldsymbol{\\beta}\\parallel^2}\\right]\\\\\n",
    "&=&\\sigma^2E\\left[\\frac{p(p-2)\\sigma^2}{ \\parallel \\boldsymbol{\\beta}\\parallel^2}- \\frac{2(p-2)\\sigma^2}{ \\parallel \\boldsymbol{\\beta}\\parallel^2}\\right]\\\\\n",
    "&=&E\\left[\\frac{(p-2)^2\\sigma^4}{\\parallel \\boldsymbol{\\beta}\\parallel^2}\\right]\n",
    "\\end{eqnarray*}\n",
    "\n",
    "Therefore:\n",
    "\\begin{eqnarray*}\n",
    "(*)&=&E\\left[\\parallel\\boldsymbol{\\beta}-\\boldsymbol{\\theta}\\parallel^2+\\frac{(p-2)^2\\sigma^4}{\\parallel \\boldsymbol{\\beta}\\parallel^2}-2\\frac{(p-2)^2\\sigma^4}{\\parallel \\boldsymbol{\\beta}\\parallel^2}\\right]\\\\\n",
    "&=&E\\left[\\parallel\\boldsymbol{\\beta}-\\boldsymbol{\\theta}\\parallel^2-\\frac{(p-2)^2\\sigma^4}{\\parallel \\boldsymbol{\\beta}\\parallel^2}\\right]\\leq E\\left[\\parallel\\boldsymbol{\\beta}-\\boldsymbol{\\theta}\\parallel^2\\right] = p\\sigma^2\n",
    "\\end{eqnarray*}"
   ]
  },
  {
   "cell_type": "markdown",
   "id": "a7c1bd28",
   "metadata": {},
   "source": [
    "### Reference"
   ]
  }
 ],
 "metadata": {
  "Rmd_chunk_options": {
   "author": "Your Name",
   "bibliography": "lecture.bib",
   "date": "2024-01-05",
   "output": "html_document",
   "title": "Regularization"
  },
  "cite2c": {
   "citations": {
    "16598153/A59N9N5V": {
     "author": [
      {
       "family": "Stein",
       "given": "Charles"
      },
      {
       "family": "others",
       "given": ""
      }
     ],
     "container-title": "Proceedings of the Third Berkeley symposium on mathematical statistics and probability",
     "issued": {
      "date-parts": [
       [
        1956
       ]
      ]
     },
     "note": "Issue: 399",
     "page": "197–206",
     "title": "Inadmissibility of the usual estimator for the mean of a multivariate normal distribution",
     "type": "paper-conference",
     "volume": "1"
    },
    "16598153/M2VTBEWL": {
     "author": [
      {
       "family": "James",
       "given": "William"
      },
      {
       "family": "Stein",
       "given": "Charles"
      }
     ],
     "container-title": "Proceedings of the fourth Berkeley symposium on mathematical statistics and probability",
     "issued": {
      "date-parts": [
       [
        1961
       ]
      ]
     },
     "note": "Issue: 1961",
     "page": "361–379",
     "title": "Estimation with quadratic loss",
     "type": "paper-conference",
     "volume": "1"
    }
   }
  },
  "kernelspec": {
   "display_name": "Python 3 (ipykernel)",
   "language": "python",
   "name": "python3"
  },
  "language_info": {
   "codemirror_mode": {
    "name": "ipython",
    "version": 3
   },
   "file_extension": ".py",
   "mimetype": "text/x-python",
   "name": "python",
   "nbconvert_exporter": "python",
   "pygments_lexer": "ipython3",
   "version": "3.11.5"
  },
  "sos": {
   "kernels": [
    [
     "SoS",
     "sos",
     "",
     ""
    ],
    [
     "R",
     "ir",
     "",
     ""
    ],
    [
     "css",
     "css",
     "",
     ""
    ],
    [
     "Python3",
     "ir",
     "",
     ""
    ],
    [
     "Markdown",
     "markdown",
     "",
     ""
    ]
   ]
  }
 },
 "nbformat": 4,
 "nbformat_minor": 5
}
